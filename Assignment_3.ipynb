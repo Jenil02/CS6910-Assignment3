{
  "cells": [
    {
      "cell_type": "code",
      "execution_count": null,
      "metadata": {
        "colab": {
          "base_uri": "https://localhost:8080/"
        },
        "id": "4B1RUJSBFG54",
        "outputId": "bc203b11-7a17-446e-dd55-746405ba08ba"
      },
      "outputs": [
        {
          "output_type": "stream",
          "name": "stdout",
          "text": [
            "Looking in indexes: https://pypi.org/simple, https://us-python.pkg.dev/colab-wheels/public/simple/\n",
            "Collecting wandb\n",
            "  Downloading wandb-0.15.3-py3-none-any.whl (2.0 MB)\n",
            "\u001b[2K     \u001b[90m━━━━━━━━━━━━━━━━━━━━━━━━━━━━━━━━━━━━━━━━\u001b[0m \u001b[32m2.0/2.0 MB\u001b[0m \u001b[31m25.0 MB/s\u001b[0m eta \u001b[36m0:00:00\u001b[0m\n",
            "\u001b[?25hRequirement already satisfied: Click!=8.0.0,>=7.0 in /usr/local/lib/python3.10/dist-packages (from wandb) (8.1.3)\n",
            "Collecting GitPython!=3.1.29,>=1.0.0 (from wandb)\n",
            "  Downloading GitPython-3.1.31-py3-none-any.whl (184 kB)\n",
            "\u001b[2K     \u001b[90m━━━━━━━━━━━━━━━━━━━━━━━━━━━━━━━━━━━━━━\u001b[0m \u001b[32m184.3/184.3 kB\u001b[0m \u001b[31m27.6 MB/s\u001b[0m eta \u001b[36m0:00:00\u001b[0m\n",
            "\u001b[?25hRequirement already satisfied: requests<3,>=2.0.0 in /usr/local/lib/python3.10/dist-packages (from wandb) (2.27.1)\n",
            "Requirement already satisfied: psutil>=5.0.0 in /usr/local/lib/python3.10/dist-packages (from wandb) (5.9.5)\n",
            "Collecting sentry-sdk>=1.0.0 (from wandb)\n",
            "  Downloading sentry_sdk-1.23.1-py2.py3-none-any.whl (205 kB)\n",
            "\u001b[2K     \u001b[90m━━━━━━━━━━━━━━━━━━━━━━━━━━━━━━━━━━━━━━\u001b[0m \u001b[32m205.1/205.1 kB\u001b[0m \u001b[31m29.0 MB/s\u001b[0m eta \u001b[36m0:00:00\u001b[0m\n",
            "\u001b[?25hCollecting docker-pycreds>=0.4.0 (from wandb)\n",
            "  Downloading docker_pycreds-0.4.0-py2.py3-none-any.whl (9.0 kB)\n",
            "Requirement already satisfied: PyYAML in /usr/local/lib/python3.10/dist-packages (from wandb) (6.0)\n",
            "Collecting pathtools (from wandb)\n",
            "  Downloading pathtools-0.1.2.tar.gz (11 kB)\n",
            "  Preparing metadata (setup.py) ... \u001b[?25l\u001b[?25hdone\n",
            "Collecting setproctitle (from wandb)\n",
            "  Downloading setproctitle-1.3.2-cp310-cp310-manylinux_2_5_x86_64.manylinux1_x86_64.manylinux_2_17_x86_64.manylinux2014_x86_64.whl (30 kB)\n",
            "Requirement already satisfied: setuptools in /usr/local/lib/python3.10/dist-packages (from wandb) (67.7.2)\n",
            "Requirement already satisfied: appdirs>=1.4.3 in /usr/local/lib/python3.10/dist-packages (from wandb) (1.4.4)\n",
            "Requirement already satisfied: protobuf!=4.21.0,<5,>=3.19.0 in /usr/local/lib/python3.10/dist-packages (from wandb) (3.20.3)\n",
            "Requirement already satisfied: six>=1.4.0 in /usr/local/lib/python3.10/dist-packages (from docker-pycreds>=0.4.0->wandb) (1.16.0)\n",
            "Collecting gitdb<5,>=4.0.1 (from GitPython!=3.1.29,>=1.0.0->wandb)\n",
            "  Downloading gitdb-4.0.10-py3-none-any.whl (62 kB)\n",
            "\u001b[2K     \u001b[90m━━━━━━━━━━━━━━━━━━━━━━━━━━━━━━━━━━━━━━━━\u001b[0m \u001b[32m62.7/62.7 kB\u001b[0m \u001b[31m10.7 MB/s\u001b[0m eta \u001b[36m0:00:00\u001b[0m\n",
            "\u001b[?25hRequirement already satisfied: urllib3<1.27,>=1.21.1 in /usr/local/lib/python3.10/dist-packages (from requests<3,>=2.0.0->wandb) (1.26.15)\n",
            "Requirement already satisfied: certifi>=2017.4.17 in /usr/local/lib/python3.10/dist-packages (from requests<3,>=2.0.0->wandb) (2022.12.7)\n",
            "Requirement already satisfied: charset-normalizer~=2.0.0 in /usr/local/lib/python3.10/dist-packages (from requests<3,>=2.0.0->wandb) (2.0.12)\n",
            "Requirement already satisfied: idna<4,>=2.5 in /usr/local/lib/python3.10/dist-packages (from requests<3,>=2.0.0->wandb) (3.4)\n",
            "Collecting smmap<6,>=3.0.1 (from gitdb<5,>=4.0.1->GitPython!=3.1.29,>=1.0.0->wandb)\n",
            "  Downloading smmap-5.0.0-py3-none-any.whl (24 kB)\n",
            "Building wheels for collected packages: pathtools\n",
            "  Building wheel for pathtools (setup.py) ... \u001b[?25l\u001b[?25hdone\n",
            "  Created wheel for pathtools: filename=pathtools-0.1.2-py3-none-any.whl size=8791 sha256=c340be48004d20e746d133c7ed8a1aac21b249086ca176f970becdf7c44ea695\n",
            "  Stored in directory: /root/.cache/pip/wheels/e7/f3/22/152153d6eb222ee7a56ff8617d80ee5207207a8c00a7aab794\n",
            "Successfully built pathtools\n",
            "Installing collected packages: pathtools, smmap, setproctitle, sentry-sdk, docker-pycreds, gitdb, GitPython, wandb\n",
            "Successfully installed GitPython-3.1.31 docker-pycreds-0.4.0 gitdb-4.0.10 pathtools-0.1.2 sentry-sdk-1.23.1 setproctitle-1.3.2 smmap-5.0.0 wandb-0.15.3\n"
          ]
        }
      ],
      "source": [
        "pip install wandb"
      ]
    },
    {
      "cell_type": "code",
      "execution_count": null,
      "metadata": {
        "colab": {
          "base_uri": "https://localhost:8080/",
          "height": 69
        },
        "id": "14lSUj1gGDUG",
        "outputId": "36e2038c-1e8d-499d-e134-fc0779d4024a"
      },
      "outputs": [
        {
          "output_type": "display_data",
          "data": {
            "text/plain": [
              "<IPython.core.display.Javascript object>"
            ],
            "application/javascript": [
              "\n",
              "        window._wandbApiKey = new Promise((resolve, reject) => {\n",
              "            function loadScript(url) {\n",
              "            return new Promise(function(resolve, reject) {\n",
              "                let newScript = document.createElement(\"script\");\n",
              "                newScript.onerror = reject;\n",
              "                newScript.onload = resolve;\n",
              "                document.body.appendChild(newScript);\n",
              "                newScript.src = url;\n",
              "            });\n",
              "            }\n",
              "            loadScript(\"https://cdn.jsdelivr.net/npm/postmate/build/postmate.min.js\").then(() => {\n",
              "            const iframe = document.createElement('iframe')\n",
              "            iframe.style.cssText = \"width:0;height:0;border:none\"\n",
              "            document.body.appendChild(iframe)\n",
              "            const handshake = new Postmate({\n",
              "                container: iframe,\n",
              "                url: 'https://wandb.ai/authorize'\n",
              "            });\n",
              "            const timeout = setTimeout(() => reject(\"Couldn't auto authenticate\"), 5000)\n",
              "            handshake.then(function(child) {\n",
              "                child.on('authorize', data => {\n",
              "                    clearTimeout(timeout)\n",
              "                    resolve(data)\n",
              "                });\n",
              "            });\n",
              "            })\n",
              "        });\n",
              "    "
            ]
          },
          "metadata": {}
        },
        {
          "output_type": "stream",
          "name": "stderr",
          "text": [
            "\u001b[34m\u001b[1mwandb\u001b[0m: Appending key for api.wandb.ai to your netrc file: /root/.netrc\n"
          ]
        },
        {
          "output_type": "execute_result",
          "data": {
            "text/plain": [
              "True"
            ]
          },
          "metadata": {},
          "execution_count": 2
        }
      ],
      "source": [
        "from io import open\n",
        "import unicodedata\n",
        "import string\n",
        "import re\n",
        "import random\n",
        "import time\n",
        "import torch\n",
        "import torch.nn as nn\n",
        "from torch import optim\n",
        "import torch.nn.functional as F\n",
        "from tqdm import tqdm\n",
        "device = torch.device(\"cuda\" if torch.cuda.is_available() else \"cpu\")\n",
        "import wandb\n",
        "wandb.login()"
      ]
    },
    {
      "cell_type": "code",
      "execution_count": null,
      "metadata": {
        "id": "5QDNMr5sFPpe"
      },
      "outputs": [],
      "source": [
        "SOS_token = 0\n",
        "EOS_token = 1\n",
        "\n",
        "class Lang:\n",
        "    def __init__(self, name):\n",
        "        self.name = name\n",
        "        self.letter2index = {}\n",
        "        self.letter2count = {}\n",
        "        self.index2letter = {0: \"SOS\", 1: \"EOS\"}\n",
        "        self.n_letters = 2  # Count SOS and EOS\n",
        "\n",
        "    def addletter(self, letter): # making a dictionary of letters and their counts\n",
        "        if letter not in self.letter2index:\n",
        "            self.letter2index[letter] = self.n_letters\n",
        "            self.letter2count[letter] = 1\n",
        "            self.index2letter[self.n_letters] = letter\n",
        "            self.n_letters += 1\n",
        "        else:\n",
        "            self.letter2count[letter] += 1\n",
        "\n",
        "    def addword(self, letter): # adding a word to the dictionary\n",
        "        for letter in letter:\n",
        "            self.addletter(letter)\n",
        "\n",
        "    def decode(self, target):\n",
        "        return ' '.join([self.index2letter[i.get] for i in target])\n"
      ]
    },
    {
      "cell_type": "code",
      "execution_count": null,
      "metadata": {
        "id": "kjdKRrTBFdkS"
      },
      "outputs": [],
      "source": [
        "def readLang(lang1, lang2, reverse=False): # read the file and make a dictionary of words of both languages\n",
        "\n",
        "    # Read the file and split into lines\n",
        "    train_lines = open('/content/drive/MyDrive/hin_train.csv', encoding='utf-8').\\\n",
        "        read().strip().split('\\n')\n",
        "    val_lines = open('/content/drive/MyDrive/hin_valid.csv', encoding='utf-8').\\\n",
        "        read().strip().split('\\n')\n",
        "    test_lines = open('/content/drive/MyDrive/hin_test.csv', encoding='utf-8').\\\n",
        "        read().strip().split('\\n')\n",
        "\n",
        "    # Split every line into pairs and normalize\n",
        "    train_pairs = [l.split(',') for l in train_lines]\n",
        "    val_pairs = [l.split(',') for l in val_lines]\n",
        "    test_pairs = [l.split(',') for l in test_lines]\n",
        "\n",
        "    input_lang = Lang(lang1)\n",
        "    output_lang = Lang(lang2)\n",
        "\n",
        "    for pair in train_pairs:\n",
        "      input_lang.addword(pair[0])\n",
        "      output_lang.addword(pair[1])\n",
        "    \n",
        "    for pair in val_pairs:\n",
        "      input_lang.addword(pair[0])\n",
        "      output_lang.addword(pair[1])\n",
        "    for pair in test_pairs:\n",
        "      input_lang.addword(pair[0])\n",
        "      output_lang.addword(pair[1])\n",
        "\n",
        "    return train_pairs, val_pairs, test_pairs, input_lang, output_lang"
      ]
    },
    {
      "cell_type": "code",
      "execution_count": null,
      "metadata": {
        "id": "5TSCkBNcFh_4"
      },
      "outputs": [],
      "source": [
        "def indexesFromword(lang, word): # convert a word to a list of indexes\n",
        "    return [lang.letter2index[letter] for letter in word]\n",
        "\n",
        "\n",
        "def tensorFromword(lang, word): # convert a word to a tensor\n",
        "    indexes = indexesFromword(lang, word)\n",
        "    indexes.append(EOS_token)\n",
        "    return torch.tensor(indexes, dtype=torch.long, device=device).view(-1, 1)\n",
        "\n",
        "\n",
        "def tensorsFromPair(pair, input_lang, output_lang): # convert a pair of words to a pair of tensors\n",
        "    input_tensor = tensorFromword(input_lang, pair[0])\n",
        "    target_tensor = tensorFromword(output_lang, pair[1])\n",
        "    return (input_tensor, target_tensor)"
      ]
    },
    {
      "cell_type": "code",
      "execution_count": null,
      "metadata": {
        "id": "NPhDUOwcFqRg"
      },
      "outputs": [],
      "source": [
        "class Encoder(nn.Module): # encoder class\n",
        "    def __init__(self, type, input_size, emb_size, hidden_size, p, num_layers):\n",
        "        super(Encoder, self).__init__()\n",
        "        self.dropout = nn.Dropout(p)\n",
        "        self.hidden_size = hidden_size\n",
        "        self.num_layers = num_layers\n",
        "        self.embedding = nn.Embedding(input_size, emb_size)\n",
        "        self.rnn = nn.RNN(emb_size, hidden_size, num_layers, dropout = p)\n",
        "        self.gru = nn.GRU(emb_size, hidden_size, num_layers, dropout = p)\n",
        "        self.lstm = nn.LSTM(emb_size, hidden_size, num_layers, dropout = p)\n",
        "        self.type_t = type\n",
        "\n",
        "    def forward(self, input, hidden):\n",
        "        embedded = self.dropout(self.embedding(input)).view(1, 1, -1) #embedding of word\n",
        "        output = embedded\n",
        "        \n",
        "        # giving output according to model type\n",
        "        if self.type_t == 'RNN':\n",
        "            output, hidden = self.rnn(output, hidden)\n",
        "        elif self.type_t == 'GRU':\n",
        "            output, hidden = self.gru(output, hidden)\n",
        "        elif self.type_t == 'LSTM':\n",
        "            output, hidden = self.lstm(output, hidden)\n",
        "\n",
        "        return output, hidden\n",
        "    \n",
        "    def initHidden(self): # initializing hidden layer\n",
        "        if self.type_t == 'LSTM':\n",
        "            return (torch.zeros(self.num_layers, 1, self.hidden_size, device=device), torch.zeros(self.num_layers, 1, self.hidden_size, device=device))\n",
        "        return torch.zeros(self.num_layers, 1, self.hidden_size, device=device)"
      ]
    },
    {
      "cell_type": "code",
      "execution_count": null,
      "metadata": {
        "id": "PKfIkkduFs-f"
      },
      "outputs": [],
      "source": [
        "class AttnDecoder(nn.Module): # decoder class\n",
        "    def __init__(self, type, output_size, hidden_size, p, num_layers):\n",
        "        super(AttnDecoder, self).__init__()\n",
        "        self.dropout = nn.Dropout(p)\n",
        "        self.output_size = output_size\n",
        "        self.hidden_size = hidden_size\n",
        "        self.num_layers = num_layers\n",
        "        self.embedding = nn.Embedding(output_size, hidden_size)\n",
        "        self.attn = nn.Linear(hidden_size*2, 50)\n",
        "        self.attn_combine = nn.Linear(hidden_size*2, hidden_size)\n",
        "        self.rnn = nn.RNN(hidden_size, hidden_size, num_layers, dropout = p)\n",
        "        self.gru = nn.GRU(hidden_size, hidden_size, num_layers, dropout = p)\n",
        "        self.lstm = nn.LSTM(hidden_size, hidden_size, num_layers, dropout = p)\n",
        "        self.out = nn.Linear(hidden_size, output_size)\n",
        "        self.type_t = type\n",
        "\n",
        "    def forward(self, input, hidden, encoder_outputs):\n",
        "        embedded = self.embedding(input).view(1, 1, -1) # embedding of word\n",
        "        embedded = self.dropout(embedded)\n",
        "        attn_weights = F.softmax(self.attn(torch.cat((embedded[0], hidden[0]), 1)), dim=1)\n",
        "        attn_applied = torch.bmm(attn_weights.unsqueeze(0), encoder_outputs.unsqueeze(0))\n",
        "        output = torch.cat((embedded[0], attn_applied[0]), 1)\n",
        "        output = self.attn_combine(output).unsqueeze(0)\n",
        "        output = F.relu(output)\n",
        "\n",
        "        # giving output according to model type\n",
        "        if self.type_t == 'RNN':\n",
        "            output, hidden = self.rnn(output, hidden)\n",
        "        elif self.type_t == 'GRU':\n",
        "            output, hidden = self.gru(output, hidden)\n",
        "        elif self.type_t == 'LSTM':\n",
        "            output, hidden = self.lstm(output, hidden)\n",
        "\n",
        "        # softmax to get probabilities\n",
        "        output = F.log_softmax(self.out(output[0]), dim=1)\n",
        "        return output, hidden, attn_weights\n",
        "    \n",
        "    def initHidden(self): # initializing hidden layer\n",
        "        if self.type_t == 'LSTM':\n",
        "            return (torch.zeros(self.num_layers, 1, self.hidden_size, device=device), torch.zeros(self.num_layers, 1, self.hidden_size, device=device))\n",
        "        return torch.zeros(self.num_layers, 1, self.hidden_size, device=device)"
      ]
    },
    {
      "cell_type": "code",
      "execution_count": null,
      "metadata": {
        "id": "TAGayBRbFwnQ"
      },
      "outputs": [],
      "source": [
        "import time\n",
        "import math\n",
        "\n",
        "\n",
        "def asMinutes(s):\n",
        "    m = math.floor(s / 60)\n",
        "    s -= m * 60\n",
        "    return '%dm %ds' % (m, s)\n",
        "\n",
        "\n",
        "def timeSince(since, percent):\n",
        "    now = time.time()\n",
        "    s = now - since\n",
        "    es = s / (percent)\n",
        "    rs = es - s\n",
        "    return '%s (- %s)' % (asMinutes(s), asMinutes(rs))"
      ]
    },
    {
      "cell_type": "code",
      "execution_count": null,
      "metadata": {
        "id": "RJ5J520LFz8K"
      },
      "outputs": [],
      "source": [
        "class Train(): # training class\n",
        "    def __init__(self, train_data, encoder, decoder, criterion, tfr = 0.5):\n",
        "        self.train_data = train_data\n",
        "        self.encoder = encoder\n",
        "        self.decoder = decoder\n",
        "        self.criterion = criterion\n",
        "        self.tfr = tfr\n",
        "        self.train_pairs, self.val_pairs, self.test_pairs, self.input_lang, self.output_lang = readLang('eng', 'hin')\n",
        "        self.training_pairs = [tensorsFromPair(self.train_pairs[i], self.input_lang, self.output_lang) for i in range(len(self.train_pairs))]\n",
        "\n",
        "    def train(self, input_tensor, target_tensor, encoder_optimizer, decoder_optimizer):\n",
        "        encoder_hidden = self.encoder.initHidden()\n",
        "        encoder_optimizer.zero_grad()\n",
        "        decoder_optimizer.zero_grad()\n",
        "        encoder_outputs = torch.zeros(50, self.encoder.hidden_size, device=device)\n",
        "\n",
        "        loss = 0\n",
        "\n",
        "        input_length = input_tensor.size(0)\n",
        "        target_length = target_tensor.size(0)\n",
        "\n",
        "        for i in range(input_length): # encoding a word\n",
        "            encoder_output, encoder_hidden = self.encoder(input_tensor[i], encoder_hidden)\n",
        "            # print(encoder_output.shape)\n",
        "            encoder_outputs[i] += encoder_output[0, 0]\n",
        "\n",
        "        decoder_input = torch.tensor([[SOS_token]], device=device)\n",
        "        decoder_hidden = encoder_hidden # encoder shares its hidden layer with decoder\n",
        "\n",
        "        use_teacher_forcing = True if random.random() < self.tfr else False\n",
        "        \n",
        "        if use_teacher_forcing: \n",
        "            for i in range(target_length):\n",
        "                decoder_output, decoder_hidden, decoder_attention = self.decoder(decoder_input, decoder_hidden, encoder_outputs)\n",
        "                loss += self.criterion(decoder_output, target_tensor[i])\n",
        "                decoder_input = target_tensor[i] # teacher forcing\n",
        "\n",
        "        else:\n",
        "            for i in range(target_length):\n",
        "                decoder_output, decoder_hidden, decoder_attention = self.decoder(decoder_input, decoder_hidden, encoder_outputs)\n",
        "                topv, topi = decoder_output.topk(1) # top k predictions\n",
        "                decoder_input = topi.squeeze().detach() # detach from history as input\n",
        "                loss += self.criterion(decoder_output, target_tensor[i])\n",
        "                if decoder_input.item() == EOS_token: # if EOS token is predicted, stop\n",
        "                    break\n",
        "\n",
        "        loss.backward() \n",
        "\n",
        "        encoder_optimizer.step()\n",
        "        decoder_optimizer.step()\n",
        "\n",
        "        return loss.item() / target_length\n",
        "\n",
        "\n",
        "    def trainIters(self, optimizer, learning_rate, n_iters = 69, print_every = 69, epochs=-1):\n",
        "      start = time.time()\n",
        "      print_loss_total = 0\n",
        "\n",
        "      if optimizer == 'SGD':\n",
        "        encoder_optimizer = optim.SGD(self.encoder.parameters(), lr = learning_rate)\n",
        "        decoder_optimizer = optim.SGD(self.decoder.parameters(), lr = learning_rate)\n",
        "      elif optimizer == 'Adam':\n",
        "        encoder_optimizer = optim.Adam(self.encoder.parameters(), lr = learning_rate)\n",
        "        decoder_optimizer = optim.Adam(self.decoder.parameters(), lr = learning_rate)\n",
        "      elif optimizer == 'RMSprop':\n",
        "        encoder_optimizer = optim.RMSprop(self.encoder.parameters(), lr = learning_rate)\n",
        "        decoder_optimizer = optim.RMSprop(self.decoder.parameters(), lr = learning_rate)\n",
        "      elif optimizer == 'NAdam':\n",
        "        encoder_optimizer = optim.NAdam(self.encoder.parameters(), lr = learning_rate)\n",
        "        decoder_optimizer = optim.NAdam(self.decoder.parameters(), lr = learning_rate)\n",
        "\n",
        "      if epochs != -1:\n",
        "          n_iters = len(self.train_pairs)\n",
        "      else:\n",
        "          train_loss_total = 0\n",
        "          for iter in tqdm(range(1, n_iters+1)):\n",
        "              training_pair = self.training_pairs[iter - 1]\n",
        "              input_tensor = training_pair[0]\n",
        "              target_tensor = training_pair[1]\n",
        "              loss = self.train(input_tensor, target_tensor, encoder_optimizer, decoder_optimizer)\n",
        "              train_loss_total += loss\n",
        "\n",
        "              if iter % print_every == 0:\n",
        "                  print_loss_avg = print_loss_total / print_every\n",
        "                  print_loss_total = 0\n",
        "                  print('%s (%d %d%%) %.4f' % (timeSince(start, iter/n_iters), iter, iter/n_iters*100, print_loss_avg))\n",
        "          train_acc = self.evaluateData(self.train_pairs)\n",
        "          valid_acc = self.evaluateData(self.val_pairs)\n",
        "          return train_acc, valid_acc\n",
        "\n",
        "      train_losss = []\n",
        "      valid_accs = []\n",
        "      train_accs = []\n",
        "      for j in range(epochs):\n",
        "          train_loss_total = 0\n",
        "          for iter in tqdm(range(1, n_iters+1)):\n",
        "              training_pair = self.training_pairs[iter - 1]\n",
        "              input_tensor = training_pair[0]\n",
        "              target_tensor = training_pair[1]\n",
        "              loss = self.train(input_tensor, target_tensor, encoder_optimizer, decoder_optimizer)\n",
        "              train_loss_total += loss\n",
        "              print_loss_total += loss\n",
        "\n",
        "              if iter % print_every == 0:\n",
        "                  print_loss_avg = print_loss_total / print_every\n",
        "                  print_loss_total = 0\n",
        "                  print('%s (%d %d%%) %.4f' % (timeSince(start, iter/n_iters), iter, iter/n_iters*100, print_loss_avg))\n",
        "          train_acc = self.evaluateData(self.train_pairs)\n",
        "          valid_acc = self.evaluateData(self.val_pairs)\n",
        "          train_losss.append(train_loss_total / n_iters)\n",
        "          valid_accs.append(valid_acc)\n",
        "          train_accs.append(train_acc)\n",
        "          print({'train_loss': train_loss_total / n_iters, 'train_acc': train_acc, 'valid_acc': valid_acc})\n",
        "      return train_losss, train_accs, valid_accs\n",
        "                    \n",
        "\n",
        "    def evaluate(self, word):\n",
        "        with torch.no_grad():\n",
        "            input_tensor = tensorFromword(self.input_lang, word)\n",
        "            input_length = input_tensor.size()[0]\n",
        "            encoder_hidden = self.encoder.initHidden()\n",
        "\n",
        "            encoder_outputs = torch.zeros(50, self.encoder.hidden_size, device=device)\n",
        "\n",
        "            for i in range(input_length): # encoding a word\n",
        "                encoder_output, encoder_hidden = self.encoder(input_tensor[i], encoder_hidden)\n",
        "                # print(encoder_output.shape)\n",
        "                encoder_outputs[i] += encoder_output[0, 0]\n",
        "\n",
        "            decoder_input = torch.tensor([[SOS_token]], device=device)\n",
        "            decoder_hidden = encoder_hidden # encoder shares its hidden layer with decoder\n",
        "\n",
        "            decoded_word = ''\n",
        "            decoder_attentions = torch.zeros(50, 50)\n",
        "\n",
        "            for j in range(50):\n",
        "                decoder_output, decoder_hidden, decoder_attention = self.decoder(decoder_input, decoder_hidden, encoder_outputs)\n",
        "                decoder_attentions[j] = decoder_attention.data\n",
        "                topv, topi = decoder_output.topk(1) # top k predictions\n",
        "                if topi.item() == EOS_token:\n",
        "                    break\n",
        "                else:\n",
        "                    decoded_word += (self.output_lang.index2letter[topi.item()])\n",
        "                decoder_input = topi.squeeze().detach() # detach from history as input\n",
        "\n",
        "            return decoded_word, decoder_attentions[:j+1]\n",
        "        \n",
        "    def evaluateData(self, data):\n",
        "        acc = 0\n",
        "        for word,target in data:\n",
        "            output_word, attentions = self.evaluate(word)\n",
        "            acc += (output_word == target)\n",
        "        return acc / len(data)\n",
        "            "
      ]
    },
    {
      "cell_type": "code",
      "execution_count": null,
      "metadata": {
        "id": "ImlwSQkhH9nU"
      },
      "outputs": [],
      "source": [
        "train_pairs, val_pairs, test_pairs, input_lang, output_lang = readLang('eng', 'hin')\n",
        "\n",
        "encoder = Encoder('GRU', input_lang.n_letters, 512, 512, 0, 1).to(device)\n",
        "decoder = AttnDecoder('GRU', output_lang.n_letters, 512, 0, 1).to(device)"
      ]
    },
    {
      "cell_type": "code",
      "source": [
        "train = Train(train_pairs, encoder, decoder, nn.NLLLoss())\n",
        "train.trainIters('SGD', 0.01, print_every=1000, epochs=10)"
      ],
      "metadata": {
        "colab": {
          "base_uri": "https://localhost:8080/"
        },
        "id": "UlOnu_3lUpH-",
        "outputId": "ce0b70c6-53b6-4e2b-c7a6-64cd4add1094"
      },
      "execution_count": null,
      "outputs": [
        {
          "output_type": "stream",
          "name": "stderr",
          "text": [
            "  2%|▏         | 1008/51200 [00:22<18:14, 45.84it/s]"
          ]
        },
        {
          "output_type": "stream",
          "name": "stdout",
          "text": [
            "0m 22s (- 18m 45s) (1000 1%) 2.8135\n"
          ]
        },
        {
          "output_type": "stream",
          "name": "stderr",
          "text": [
            "  4%|▍         | 2008/51200 [00:44<19:29, 42.07it/s]"
          ]
        },
        {
          "output_type": "stream",
          "name": "stdout",
          "text": [
            "0m 44s (- 18m 7s) (2000 3%) 2.4487\n"
          ]
        },
        {
          "output_type": "stream",
          "name": "stderr",
          "text": [
            "  6%|▌         | 3005/51200 [01:07<15:21, 52.30it/s]"
          ]
        },
        {
          "output_type": "stream",
          "name": "stdout",
          "text": [
            "1m 7s (- 18m 5s) (3000 5%) 2.2336\n"
          ]
        },
        {
          "output_type": "stream",
          "name": "stderr",
          "text": [
            "  8%|▊         | 4005/51200 [01:30<22:48, 34.49it/s]"
          ]
        },
        {
          "output_type": "stream",
          "name": "stdout",
          "text": [
            "1m 30s (- 17m 47s) (4000 7%) 2.0872\n"
          ]
        },
        {
          "output_type": "stream",
          "name": "stderr",
          "text": [
            " 10%|▉         | 5008/51200 [01:53<15:00, 51.29it/s]"
          ]
        },
        {
          "output_type": "stream",
          "name": "stdout",
          "text": [
            "1m 52s (- 17m 22s) (5000 9%) 1.9313\n"
          ]
        },
        {
          "output_type": "stream",
          "name": "stderr",
          "text": [
            " 12%|█▏        | 6007/51200 [02:16<16:19, 46.14it/s]"
          ]
        },
        {
          "output_type": "stream",
          "name": "stdout",
          "text": [
            "2m 15s (- 17m 3s) (6000 11%) 1.8177\n"
          ]
        },
        {
          "output_type": "stream",
          "name": "stderr",
          "text": [
            " 14%|█▎        | 7003/51200 [02:38<15:29, 47.53it/s]"
          ]
        },
        {
          "output_type": "stream",
          "name": "stdout",
          "text": [
            "2m 38s (- 16m 40s) (7000 13%) 1.7845\n"
          ]
        },
        {
          "output_type": "stream",
          "name": "stderr",
          "text": [
            " 16%|█▌        | 8007/51200 [03:02<15:17, 47.09it/s]"
          ]
        },
        {
          "output_type": "stream",
          "name": "stdout",
          "text": [
            "3m 2s (- 16m 23s) (8000 15%) 1.7056\n"
          ]
        },
        {
          "output_type": "stream",
          "name": "stderr",
          "text": [
            " 18%|█▊        | 9005/51200 [03:26<17:46, 39.57it/s]"
          ]
        },
        {
          "output_type": "stream",
          "name": "stdout",
          "text": [
            "3m 26s (- 16m 6s) (9000 17%) 1.6557\n"
          ]
        },
        {
          "output_type": "stream",
          "name": "stderr",
          "text": [
            " 20%|█▉        | 10008/51200 [03:48<14:48, 46.38it/s]"
          ]
        },
        {
          "output_type": "stream",
          "name": "stdout",
          "text": [
            "3m 48s (- 15m 41s) (10000 19%) 1.6190\n"
          ]
        },
        {
          "output_type": "stream",
          "name": "stderr",
          "text": [
            " 21%|██▏       | 11006/51200 [04:12<14:19, 46.75it/s]"
          ]
        },
        {
          "output_type": "stream",
          "name": "stdout",
          "text": [
            "4m 12s (- 15m 21s) (11000 21%) 1.6372\n"
          ]
        },
        {
          "output_type": "stream",
          "name": "stderr",
          "text": [
            " 23%|██▎       | 12005/51200 [04:35<20:02, 32.59it/s]"
          ]
        },
        {
          "output_type": "stream",
          "name": "stdout",
          "text": [
            "4m 35s (- 15m 0s) (12000 23%) 1.5741\n"
          ]
        },
        {
          "output_type": "stream",
          "name": "stderr",
          "text": [
            " 25%|██▌       | 13008/51200 [04:58<13:34, 46.90it/s]"
          ]
        },
        {
          "output_type": "stream",
          "name": "stdout",
          "text": [
            "4m 58s (- 14m 36s) (13000 25%) 1.5257\n"
          ]
        },
        {
          "output_type": "stream",
          "name": "stderr",
          "text": [
            " 27%|██▋       | 14008/51200 [05:22<12:34, 49.29it/s]"
          ]
        },
        {
          "output_type": "stream",
          "name": "stdout",
          "text": [
            "5m 22s (- 14m 16s) (14000 27%) 1.5345\n"
          ]
        },
        {
          "output_type": "stream",
          "name": "stderr",
          "text": [
            " 29%|██▉       | 15004/51200 [05:45<16:37, 36.28it/s]"
          ]
        },
        {
          "output_type": "stream",
          "name": "stdout",
          "text": [
            "5m 45s (- 13m 53s) (15000 29%) 1.5555\n"
          ]
        },
        {
          "output_type": "stream",
          "name": "stderr",
          "text": [
            " 31%|███▏      | 16006/51200 [06:08<13:36, 43.13it/s]"
          ]
        },
        {
          "output_type": "stream",
          "name": "stdout",
          "text": [
            "6m 8s (- 13m 31s) (16000 31%) 1.4974\n"
          ]
        },
        {
          "output_type": "stream",
          "name": "stderr",
          "text": [
            " 33%|███▎      | 17003/51200 [06:32<12:25, 45.87it/s]"
          ]
        },
        {
          "output_type": "stream",
          "name": "stdout",
          "text": [
            "6m 32s (- 13m 10s) (17000 33%) 1.4921\n"
          ]
        },
        {
          "output_type": "stream",
          "name": "stderr",
          "text": [
            " 35%|███▌      | 18003/51200 [06:56<16:10, 34.19it/s]"
          ]
        },
        {
          "output_type": "stream",
          "name": "stdout",
          "text": [
            "6m 56s (- 12m 47s) (18000 35%) 1.5368\n"
          ]
        },
        {
          "output_type": "stream",
          "name": "stderr",
          "text": [
            " 37%|███▋      | 19008/51200 [07:19<11:00, 48.70it/s]"
          ]
        },
        {
          "output_type": "stream",
          "name": "stdout",
          "text": [
            "7m 19s (- 12m 24s) (19000 37%) 1.5162\n"
          ]
        },
        {
          "output_type": "stream",
          "name": "stderr",
          "text": [
            " 39%|███▉      | 20006/51200 [07:43<11:13, 46.34it/s]"
          ]
        },
        {
          "output_type": "stream",
          "name": "stdout",
          "text": [
            "7m 43s (- 12m 2s) (20000 39%) 1.5201\n"
          ]
        },
        {
          "output_type": "stream",
          "name": "stderr",
          "text": [
            " 41%|████      | 21003/51200 [08:06<15:57, 31.55it/s]"
          ]
        },
        {
          "output_type": "stream",
          "name": "stdout",
          "text": [
            "8m 6s (- 11m 39s) (21000 41%) 1.5085\n"
          ]
        },
        {
          "output_type": "stream",
          "name": "stderr",
          "text": [
            " 43%|████▎     | 22006/51200 [08:29<10:15, 47.44it/s]"
          ]
        },
        {
          "output_type": "stream",
          "name": "stdout",
          "text": [
            "8m 29s (- 11m 16s) (22000 42%) 1.4259\n"
          ]
        },
        {
          "output_type": "stream",
          "name": "stderr",
          "text": [
            " 45%|████▍     | 23005/51200 [08:53<10:00, 46.97it/s]"
          ]
        },
        {
          "output_type": "stream",
          "name": "stdout",
          "text": [
            "8m 53s (- 10m 53s) (23000 44%) 1.4682\n"
          ]
        },
        {
          "output_type": "stream",
          "name": "stderr",
          "text": [
            " 47%|████▋     | 24003/51200 [09:16<12:42, 35.67it/s]"
          ]
        },
        {
          "output_type": "stream",
          "name": "stdout",
          "text": [
            "9m 16s (- 10m 30s) (24000 46%) 1.5375\n"
          ]
        },
        {
          "output_type": "stream",
          "name": "stderr",
          "text": [
            " 49%|████▉     | 25007/51200 [09:40<09:35, 45.48it/s]"
          ]
        },
        {
          "output_type": "stream",
          "name": "stdout",
          "text": [
            "9m 40s (- 10m 8s) (25000 48%) 1.4768\n"
          ]
        },
        {
          "output_type": "stream",
          "name": "stderr",
          "text": [
            " 51%|█████     | 26011/51200 [10:04<08:21, 50.23it/s]"
          ]
        },
        {
          "output_type": "stream",
          "name": "stdout",
          "text": [
            "10m 4s (- 9m 46s) (26000 50%) 1.4801\n"
          ]
        },
        {
          "output_type": "stream",
          "name": "stderr",
          "text": [
            " 53%|█████▎    | 27005/51200 [10:28<12:37, 31.94it/s]"
          ]
        },
        {
          "output_type": "stream",
          "name": "stdout",
          "text": [
            "10m 27s (- 9m 22s) (27000 52%) 1.5109\n"
          ]
        },
        {
          "output_type": "stream",
          "name": "stderr",
          "text": [
            " 55%|█████▍    | 28009/51200 [10:52<08:33, 45.17it/s]"
          ]
        },
        {
          "output_type": "stream",
          "name": "stdout",
          "text": [
            "10m 51s (- 9m 0s) (28000 54%) 1.4930\n"
          ]
        },
        {
          "output_type": "stream",
          "name": "stderr",
          "text": [
            " 57%|█████▋    | 29007/51200 [11:15<07:52, 46.95it/s]"
          ]
        },
        {
          "output_type": "stream",
          "name": "stdout",
          "text": [
            "11m 15s (- 8m 37s) (29000 56%) 1.4728\n"
          ]
        },
        {
          "output_type": "stream",
          "name": "stderr",
          "text": [
            " 59%|█████▊    | 30005/51200 [11:39<10:55, 32.31it/s]"
          ]
        },
        {
          "output_type": "stream",
          "name": "stdout",
          "text": [
            "11m 39s (- 8m 14s) (30000 58%) 1.4643\n"
          ]
        },
        {
          "output_type": "stream",
          "name": "stderr",
          "text": [
            " 61%|██████    | 31005/51200 [12:03<07:10, 46.87it/s]"
          ]
        },
        {
          "output_type": "stream",
          "name": "stdout",
          "text": [
            "12m 3s (- 7m 51s) (31000 60%) 1.5554\n"
          ]
        },
        {
          "output_type": "stream",
          "name": "stderr",
          "text": [
            " 63%|██████▎   | 32005/51200 [12:27<07:29, 42.66it/s]"
          ]
        },
        {
          "output_type": "stream",
          "name": "stdout",
          "text": [
            "12m 27s (- 7m 28s) (32000 62%) 1.5490\n"
          ]
        },
        {
          "output_type": "stream",
          "name": "stderr",
          "text": [
            " 64%|██████▍   | 33003/51200 [12:50<09:07, 33.26it/s]"
          ]
        },
        {
          "output_type": "stream",
          "name": "stdout",
          "text": [
            "12m 50s (- 7m 4s) (33000 64%) 1.5859\n"
          ]
        },
        {
          "output_type": "stream",
          "name": "stderr",
          "text": [
            " 66%|██████▋   | 34005/51200 [13:13<05:51, 48.95it/s]"
          ]
        },
        {
          "output_type": "stream",
          "name": "stdout",
          "text": [
            "13m 13s (- 6m 41s) (34000 66%) 1.5358\n"
          ]
        },
        {
          "output_type": "stream",
          "name": "stderr",
          "text": [
            " 68%|██████▊   | 35005/51200 [13:37<05:37, 47.95it/s]"
          ]
        },
        {
          "output_type": "stream",
          "name": "stdout",
          "text": [
            "13m 37s (- 6m 18s) (35000 68%) 1.6214\n"
          ]
        },
        {
          "output_type": "stream",
          "name": "stderr",
          "text": [
            " 70%|███████   | 36003/51200 [14:00<06:54, 36.66it/s]"
          ]
        },
        {
          "output_type": "stream",
          "name": "stdout",
          "text": [
            "13m 59s (- 5m 54s) (36000 70%) 1.6275\n"
          ]
        },
        {
          "output_type": "stream",
          "name": "stderr",
          "text": [
            " 72%|███████▏  | 37004/51200 [14:23<05:24, 43.80it/s]"
          ]
        },
        {
          "output_type": "stream",
          "name": "stdout",
          "text": [
            "14m 23s (- 5m 31s) (37000 72%) 1.6092\n"
          ]
        },
        {
          "output_type": "stream",
          "name": "stderr",
          "text": [
            " 74%|███████▍  | 38006/51200 [14:47<04:53, 44.89it/s]"
          ]
        },
        {
          "output_type": "stream",
          "name": "stdout",
          "text": [
            "14m 47s (- 5m 8s) (38000 74%) 1.8758\n"
          ]
        },
        {
          "output_type": "stream",
          "name": "stderr",
          "text": [
            " 76%|███████▌  | 39006/51200 [15:10<04:47, 42.36it/s]"
          ]
        },
        {
          "output_type": "stream",
          "name": "stdout",
          "text": [
            "15m 10s (- 4m 44s) (39000 76%) 1.7713\n"
          ]
        },
        {
          "output_type": "stream",
          "name": "stderr",
          "text": [
            " 78%|███████▊  | 40005/51200 [15:34<04:18, 43.33it/s]"
          ]
        },
        {
          "output_type": "stream",
          "name": "stdout",
          "text": [
            "15m 33s (- 4m 21s) (40000 78%) 1.7679\n"
          ]
        },
        {
          "output_type": "stream",
          "name": "stderr",
          "text": [
            " 80%|████████  | 41005/51200 [15:57<03:34, 47.52it/s]"
          ]
        },
        {
          "output_type": "stream",
          "name": "stdout",
          "text": [
            "15m 57s (- 3m 58s) (41000 80%) 1.7295\n"
          ]
        },
        {
          "output_type": "stream",
          "name": "stderr",
          "text": [
            " 82%|████████▏ | 42008/51200 [16:20<03:20, 45.77it/s]"
          ]
        },
        {
          "output_type": "stream",
          "name": "stdout",
          "text": [
            "16m 20s (- 3m 34s) (42000 82%) 1.7960\n"
          ]
        },
        {
          "output_type": "stream",
          "name": "stderr",
          "text": [
            " 84%|████████▍ | 43008/51200 [16:44<02:43, 50.10it/s]"
          ]
        },
        {
          "output_type": "stream",
          "name": "stdout",
          "text": [
            "16m 44s (- 3m 11s) (43000 83%) 1.7925\n"
          ]
        },
        {
          "output_type": "stream",
          "name": "stderr",
          "text": [
            " 86%|████████▌ | 44006/51200 [17:08<02:41, 44.50it/s]"
          ]
        },
        {
          "output_type": "stream",
          "name": "stdout",
          "text": [
            "17m 8s (- 2m 48s) (44000 85%) 1.8390\n"
          ]
        },
        {
          "output_type": "stream",
          "name": "stderr",
          "text": [
            " 88%|████████▊ | 45006/51200 [17:31<02:20, 44.18it/s]"
          ]
        },
        {
          "output_type": "stream",
          "name": "stdout",
          "text": [
            "17m 31s (- 2m 24s) (45000 87%) 1.8305\n"
          ]
        },
        {
          "output_type": "stream",
          "name": "stderr",
          "text": [
            " 90%|████████▉ | 46007/51200 [17:56<01:47, 48.18it/s]"
          ]
        },
        {
          "output_type": "stream",
          "name": "stdout",
          "text": [
            "17m 55s (- 2m 1s) (46000 89%) 1.9386\n"
          ]
        },
        {
          "output_type": "stream",
          "name": "stderr",
          "text": [
            " 92%|█████████▏| 47007/51200 [18:20<01:28, 47.44it/s]"
          ]
        },
        {
          "output_type": "stream",
          "name": "stdout",
          "text": [
            "18m 19s (- 1m 38s) (47000 91%) 2.1995\n"
          ]
        },
        {
          "output_type": "stream",
          "name": "stderr",
          "text": [
            " 94%|█████████▍| 48005/51200 [18:42<01:05, 48.81it/s]"
          ]
        },
        {
          "output_type": "stream",
          "name": "stdout",
          "text": [
            "18m 42s (- 1m 14s) (48000 93%) 2.2017\n"
          ]
        },
        {
          "output_type": "stream",
          "name": "stderr",
          "text": [
            " 96%|█████████▌| 49007/51200 [19:06<00:48, 45.18it/s]"
          ]
        },
        {
          "output_type": "stream",
          "name": "stdout",
          "text": [
            "19m 6s (- 0m 51s) (49000 95%) 2.4801\n"
          ]
        },
        {
          "output_type": "stream",
          "name": "stderr",
          "text": [
            " 98%|█████████▊| 50008/51200 [19:30<00:28, 42.30it/s]"
          ]
        },
        {
          "output_type": "stream",
          "name": "stdout",
          "text": [
            "19m 30s (- 0m 28s) (50000 97%) 2.2661\n"
          ]
        },
        {
          "output_type": "stream",
          "name": "stderr",
          "text": [
            "100%|█████████▉| 51007/51200 [19:53<00:04, 47.05it/s]"
          ]
        },
        {
          "output_type": "stream",
          "name": "stdout",
          "text": [
            "19m 53s (- 0m 4s) (51000 99%) 2.4312\n"
          ]
        },
        {
          "output_type": "stream",
          "name": "stderr",
          "text": [
            "100%|██████████| 51200/51200 [19:58<00:00, 42.71it/s]\n"
          ]
        },
        {
          "output_type": "stream",
          "name": "stdout",
          "text": [
            "{'train_loss': 1.754548040096162, 'train_acc': 0.0035546875, 'valid_acc': 0.01123046875}\n"
          ]
        },
        {
          "output_type": "stream",
          "name": "stderr",
          "text": [
            "  2%|▏         | 1008/51200 [00:22<18:21, 45.57it/s]"
          ]
        },
        {
          "output_type": "stream",
          "name": "stdout",
          "text": [
            "28m 32s (- 1433m 5s) (1000 1%) 3.2485\n"
          ]
        },
        {
          "output_type": "stream",
          "name": "stderr",
          "text": [
            "  4%|▍         | 2004/51200 [00:46<19:13, 42.66it/s]"
          ]
        },
        {
          "output_type": "stream",
          "name": "stdout",
          "text": [
            "28m 56s (- 712m 4s) (2000 3%) 2.8858\n"
          ]
        },
        {
          "output_type": "stream",
          "name": "stderr",
          "text": [
            "  6%|▌         | 3005/51200 [01:09<22:52, 35.12it/s]"
          ]
        },
        {
          "output_type": "stream",
          "name": "stdout",
          "text": [
            "29m 20s (- 471m 21s) (3000 5%) 2.9252\n"
          ]
        },
        {
          "output_type": "stream",
          "name": "stderr",
          "text": [
            "  8%|▊         | 4008/51200 [01:32<17:28, 44.99it/s]"
          ]
        },
        {
          "output_type": "stream",
          "name": "stdout",
          "text": [
            "29m 42s (- 350m 37s) (4000 7%) 2.8249\n"
          ]
        },
        {
          "output_type": "stream",
          "name": "stderr",
          "text": [
            " 10%|▉         | 5009/51200 [01:55<16:22, 46.99it/s]"
          ]
        },
        {
          "output_type": "stream",
          "name": "stdout",
          "text": [
            "30m 6s (- 278m 11s) (5000 9%) 2.6787\n"
          ]
        },
        {
          "output_type": "stream",
          "name": "stderr",
          "text": [
            " 12%|█▏        | 6003/51200 [02:18<21:11, 35.54it/s]"
          ]
        },
        {
          "output_type": "stream",
          "name": "stdout",
          "text": [
            "30m 29s (- 229m 41s) (6000 11%) 2.7422\n"
          ]
        },
        {
          "output_type": "stream",
          "name": "stderr",
          "text": [
            " 14%|█▎        | 7002/51200 [02:42<15:39, 47.06it/s]"
          ]
        },
        {
          "output_type": "stream",
          "name": "stdout",
          "text": [
            "30m 52s (- 194m 59s) (7000 13%) 2.7182\n"
          ]
        },
        {
          "output_type": "stream",
          "name": "stderr",
          "text": [
            " 16%|█▌        | 8010/51200 [03:06<14:13, 50.59it/s]"
          ]
        },
        {
          "output_type": "stream",
          "name": "stdout",
          "text": [
            "31m 16s (- 168m 54s) (8000 15%) 2.6446\n"
          ]
        },
        {
          "output_type": "stream",
          "name": "stderr",
          "text": [
            " 18%|█▊        | 9006/51200 [03:29<21:23, 32.87it/s]"
          ]
        },
        {
          "output_type": "stream",
          "name": "stdout",
          "text": [
            "31m 40s (- 148m 30s) (9000 17%) 2.4905\n"
          ]
        },
        {
          "output_type": "stream",
          "name": "stderr",
          "text": [
            " 20%|█▉        | 10005/51200 [03:52<14:44, 46.59it/s]"
          ]
        },
        {
          "output_type": "stream",
          "name": "stdout",
          "text": [
            "32m 3s (- 132m 4s) (10000 19%) 2.4387\n"
          ]
        },
        {
          "output_type": "stream",
          "name": "stderr",
          "text": [
            " 21%|██▏       | 11005/51200 [04:16<15:37, 42.86it/s]"
          ]
        },
        {
          "output_type": "stream",
          "name": "stdout",
          "text": [
            "32m 27s (- 118m 36s) (11000 21%) 2.3763\n"
          ]
        },
        {
          "output_type": "stream",
          "name": "stderr",
          "text": [
            " 23%|██▎       | 12005/51200 [04:39<20:24, 32.00it/s]"
          ]
        },
        {
          "output_type": "stream",
          "name": "stdout",
          "text": [
            "32m 50s (- 107m 16s) (12000 23%) 2.3161\n"
          ]
        },
        {
          "output_type": "stream",
          "name": "stderr",
          "text": [
            " 25%|██▌       | 13006/51200 [05:02<13:35, 46.82it/s]"
          ]
        },
        {
          "output_type": "stream",
          "name": "stdout",
          "text": [
            "33m 13s (- 97m 37s) (13000 25%) 2.2190\n"
          ]
        },
        {
          "output_type": "stream",
          "name": "stderr",
          "text": [
            " 27%|██▋       | 14009/51200 [05:26<12:28, 49.71it/s]"
          ]
        },
        {
          "output_type": "stream",
          "name": "stdout",
          "text": [
            "33m 37s (- 89m 19s) (14000 27%) 2.2107\n"
          ]
        },
        {
          "output_type": "stream",
          "name": "stderr",
          "text": [
            " 29%|██▉       | 15005/51200 [05:48<12:50, 46.98it/s]"
          ]
        },
        {
          "output_type": "stream",
          "name": "stdout",
          "text": [
            "33m 59s (- 82m 1s) (15000 29%) 2.1561\n"
          ]
        },
        {
          "output_type": "stream",
          "name": "stderr",
          "text": [
            " 31%|███▏      | 16004/51200 [06:12<13:50, 42.37it/s]"
          ]
        },
        {
          "output_type": "stream",
          "name": "stdout",
          "text": [
            "34m 23s (- 75m 38s) (16000 31%) 2.0196\n"
          ]
        },
        {
          "output_type": "stream",
          "name": "stderr",
          "text": [
            " 33%|███▎      | 17008/51200 [06:36<12:11, 46.72it/s]"
          ]
        },
        {
          "output_type": "stream",
          "name": "stdout",
          "text": [
            "34m 46s (- 69m 58s) (17000 33%) 2.0048\n"
          ]
        },
        {
          "output_type": "stream",
          "name": "stderr",
          "text": [
            " 35%|███▌      | 18006/51200 [06:59<11:48, 46.82it/s]"
          ]
        },
        {
          "output_type": "stream",
          "name": "stdout",
          "text": [
            "35m 9s (- 64m 51s) (18000 35%) 1.9801\n"
          ]
        },
        {
          "output_type": "stream",
          "name": "stderr",
          "text": [
            " 37%|███▋      | 19005/51200 [07:22<10:36, 50.60it/s]"
          ]
        },
        {
          "output_type": "stream",
          "name": "stdout",
          "text": [
            "35m 33s (- 60m 15s) (19000 37%) 1.9180\n"
          ]
        },
        {
          "output_type": "stream",
          "name": "stderr",
          "text": [
            " 39%|███▉      | 20006/51200 [07:46<12:00, 43.30it/s]"
          ]
        },
        {
          "output_type": "stream",
          "name": "stdout",
          "text": [
            "35m 56s (- 56m 4s) (20000 39%) 1.9423\n"
          ]
        },
        {
          "output_type": "stream",
          "name": "stderr",
          "text": [
            " 41%|████      | 21006/51200 [08:09<11:33, 43.53it/s]"
          ]
        },
        {
          "output_type": "stream",
          "name": "stdout",
          "text": [
            "36m 19s (- 52m 14s) (21000 41%) 1.8764\n"
          ]
        },
        {
          "output_type": "stream",
          "name": "stderr",
          "text": [
            " 43%|████▎     | 22010/51200 [08:32<10:09, 47.90it/s]"
          ]
        },
        {
          "output_type": "stream",
          "name": "stdout",
          "text": [
            "36m 42s (- 48m 43s) (22000 42%) 1.8390\n"
          ]
        },
        {
          "output_type": "stream",
          "name": "stderr",
          "text": [
            " 45%|████▍     | 23005/51200 [08:55<13:09, 35.70it/s]"
          ]
        },
        {
          "output_type": "stream",
          "name": "stdout",
          "text": [
            "37m 5s (- 45m 29s) (23000 44%) 1.8088\n"
          ]
        },
        {
          "output_type": "stream",
          "name": "stderr",
          "text": [
            " 47%|████▋     | 24007/51200 [09:18<10:09, 44.62it/s]"
          ]
        },
        {
          "output_type": "stream",
          "name": "stdout",
          "text": [
            "37m 28s (- 42m 28s) (24000 46%) 1.8189\n"
          ]
        },
        {
          "output_type": "stream",
          "name": "stderr",
          "text": [
            " 49%|████▉     | 25008/51200 [09:42<09:00, 48.49it/s]"
          ]
        },
        {
          "output_type": "stream",
          "name": "stdout",
          "text": [
            "37m 52s (- 39m 41s) (25000 48%) 1.7637\n"
          ]
        },
        {
          "output_type": "stream",
          "name": "stderr",
          "text": [
            " 51%|█████     | 26008/51200 [10:05<11:04, 37.91it/s]"
          ]
        },
        {
          "output_type": "stream",
          "name": "stdout",
          "text": [
            "38m 15s (- 37m 5s) (26000 50%) 1.7678\n"
          ]
        },
        {
          "output_type": "stream",
          "name": "stderr",
          "text": [
            " 53%|█████▎    | 27007/51200 [10:28<09:08, 44.10it/s]"
          ]
        },
        {
          "output_type": "stream",
          "name": "stdout",
          "text": [
            "38m 38s (- 34m 38s) (27000 52%) 1.7595\n"
          ]
        },
        {
          "output_type": "stream",
          "name": "stderr",
          "text": [
            " 55%|█████▍    | 28009/51200 [10:52<08:24, 45.99it/s]"
          ]
        },
        {
          "output_type": "stream",
          "name": "stdout",
          "text": [
            "39m 2s (- 32m 21s) (28000 54%) 1.9664\n"
          ]
        },
        {
          "output_type": "stream",
          "name": "stderr",
          "text": [
            " 57%|█████▋    | 29004/51200 [11:14<10:25, 35.49it/s]"
          ]
        },
        {
          "output_type": "stream",
          "name": "stdout",
          "text": [
            "39m 25s (- 30m 10s) (29000 56%) 1.8610\n"
          ]
        },
        {
          "output_type": "stream",
          "name": "stderr",
          "text": [
            " 59%|█████▊    | 30005/51200 [11:38<07:57, 44.40it/s]"
          ]
        },
        {
          "output_type": "stream",
          "name": "stdout",
          "text": [
            "39m 48s (- 28m 8s) (30000 58%) 1.7661\n"
          ]
        },
        {
          "output_type": "stream",
          "name": "stderr",
          "text": [
            " 61%|██████    | 31006/51200 [12:02<07:08, 47.11it/s]"
          ]
        },
        {
          "output_type": "stream",
          "name": "stdout",
          "text": [
            "40m 12s (- 26m 12s) (31000 60%) 1.8087\n"
          ]
        },
        {
          "output_type": "stream",
          "name": "stderr",
          "text": [
            " 63%|██████▎   | 32003/51200 [12:25<10:00, 31.97it/s]"
          ]
        },
        {
          "output_type": "stream",
          "name": "stdout",
          "text": [
            "40m 35s (- 24m 21s) (32000 62%) 1.7074\n"
          ]
        },
        {
          "output_type": "stream",
          "name": "stderr",
          "text": [
            " 64%|██████▍   | 33005/51200 [12:48<07:29, 40.48it/s]"
          ]
        },
        {
          "output_type": "stream",
          "name": "stdout",
          "text": [
            "40m 59s (- 22m 36s) (33000 64%) 1.6884\n"
          ]
        },
        {
          "output_type": "stream",
          "name": "stderr",
          "text": [
            " 66%|██████▋   | 34006/51200 [13:12<05:58, 47.95it/s]"
          ]
        },
        {
          "output_type": "stream",
          "name": "stdout",
          "text": [
            "41m 23s (- 20m 56s) (34000 66%) 1.6908\n"
          ]
        },
        {
          "output_type": "stream",
          "name": "stderr",
          "text": [
            " 68%|██████▊   | 35003/51200 [13:35<05:56, 45.44it/s]"
          ]
        },
        {
          "output_type": "stream",
          "name": "stdout",
          "text": [
            "41m 46s (- 19m 19s) (35000 68%) 1.6931\n"
          ]
        },
        {
          "output_type": "stream",
          "name": "stderr",
          "text": [
            " 70%|███████   | 36006/51200 [13:59<05:37, 44.97it/s]"
          ]
        },
        {
          "output_type": "stream",
          "name": "stdout",
          "text": [
            "42m 10s (- 17m 48s) (36000 70%) 1.6660\n"
          ]
        },
        {
          "output_type": "stream",
          "name": "stderr",
          "text": [
            " 72%|███████▏  | 37004/51200 [14:23<05:07, 46.24it/s]"
          ]
        },
        {
          "output_type": "stream",
          "name": "stdout",
          "text": [
            "42m 34s (- 16m 20s) (37000 72%) 1.6321\n"
          ]
        },
        {
          "output_type": "stream",
          "name": "stderr",
          "text": [
            " 74%|███████▍  | 38006/51200 [14:46<05:12, 42.22it/s]"
          ]
        },
        {
          "output_type": "stream",
          "name": "stdout",
          "text": [
            "42m 56s (- 14m 55s) (38000 74%) 1.6165\n"
          ]
        },
        {
          "output_type": "stream",
          "name": "stderr",
          "text": [
            " 76%|███████▌  | 39005/51200 [15:10<04:17, 47.39it/s]"
          ]
        },
        {
          "output_type": "stream",
          "name": "stdout",
          "text": [
            "43m 21s (- 13m 33s) (39000 76%) 1.6357\n"
          ]
        },
        {
          "output_type": "stream",
          "name": "stderr",
          "text": [
            " 78%|███████▊  | 40007/51200 [15:34<04:22, 42.62it/s]"
          ]
        },
        {
          "output_type": "stream",
          "name": "stdout",
          "text": [
            "43m 45s (- 12m 15s) (40000 78%) 1.6220\n"
          ]
        },
        {
          "output_type": "stream",
          "name": "stderr",
          "text": [
            " 80%|████████  | 41007/51200 [15:57<03:59, 42.56it/s]"
          ]
        },
        {
          "output_type": "stream",
          "name": "stdout",
          "text": [
            "44m 7s (- 10m 58s) (41000 80%) 1.5967\n"
          ]
        },
        {
          "output_type": "stream",
          "name": "stderr",
          "text": [
            " 82%|████████▏ | 42005/51200 [16:21<03:38, 42.04it/s]"
          ]
        },
        {
          "output_type": "stream",
          "name": "stdout",
          "text": [
            "44m 31s (- 9m 45s) (42000 82%) 1.6336\n"
          ]
        },
        {
          "output_type": "stream",
          "name": "stderr",
          "text": [
            " 84%|████████▍ | 43008/51200 [16:45<02:46, 49.34it/s]"
          ]
        },
        {
          "output_type": "stream",
          "name": "stdout",
          "text": [
            "44m 55s (- 8m 34s) (43000 83%) 1.6448\n"
          ]
        },
        {
          "output_type": "stream",
          "name": "stderr",
          "text": [
            " 86%|████████▌ | 44009/51200 [17:08<02:47, 42.86it/s]"
          ]
        },
        {
          "output_type": "stream",
          "name": "stdout",
          "text": [
            "45m 18s (- 7m 24s) (44000 85%) 1.6232\n"
          ]
        },
        {
          "output_type": "stream",
          "name": "stderr",
          "text": [
            " 88%|████████▊ | 45009/51200 [17:32<02:15, 45.61it/s]"
          ]
        },
        {
          "output_type": "stream",
          "name": "stdout",
          "text": [
            "45m 42s (- 6m 17s) (45000 87%) 1.6362\n"
          ]
        },
        {
          "output_type": "stream",
          "name": "stderr",
          "text": [
            " 90%|████████▉ | 46007/51200 [17:56<01:52, 46.13it/s]"
          ]
        },
        {
          "output_type": "stream",
          "name": "stdout",
          "text": [
            "46m 7s (- 5m 12s) (46000 89%) 1.6242\n"
          ]
        },
        {
          "output_type": "stream",
          "name": "stderr",
          "text": [
            " 92%|█████████▏| 47004/51200 [18:19<02:06, 33.20it/s]"
          ]
        },
        {
          "output_type": "stream",
          "name": "stdout",
          "text": [
            "46m 30s (- 4m 9s) (47000 91%) 1.6222\n"
          ]
        },
        {
          "output_type": "stream",
          "name": "stderr",
          "text": [
            " 94%|█████████▍| 48005/51200 [18:43<01:05, 48.58it/s]"
          ]
        },
        {
          "output_type": "stream",
          "name": "stdout",
          "text": [
            "46m 54s (- 3m 7s) (48000 93%) 1.5494\n"
          ]
        },
        {
          "output_type": "stream",
          "name": "stderr",
          "text": [
            " 96%|█████████▌| 49008/51200 [19:07<00:47, 46.28it/s]"
          ]
        },
        {
          "output_type": "stream",
          "name": "stdout",
          "text": [
            "47m 18s (- 2m 7s) (49000 95%) 1.5827\n"
          ]
        },
        {
          "output_type": "stream",
          "name": "stderr",
          "text": [
            " 98%|█████████▊| 50004/51200 [19:30<00:33, 35.62it/s]"
          ]
        },
        {
          "output_type": "stream",
          "name": "stdout",
          "text": [
            "47m 40s (- 1m 8s) (50000 97%) 1.5669\n"
          ]
        },
        {
          "output_type": "stream",
          "name": "stderr",
          "text": [
            "100%|█████████▉| 51007/51200 [19:54<00:04, 45.73it/s]"
          ]
        },
        {
          "output_type": "stream",
          "name": "stdout",
          "text": [
            "48m 4s (- 0m 11s) (51000 99%) 1.5224\n"
          ]
        },
        {
          "output_type": "stream",
          "name": "stderr",
          "text": [
            "100%|██████████| 51200/51200 [19:58<00:00, 42.72it/s]\n"
          ]
        },
        {
          "output_type": "stream",
          "name": "stdout",
          "text": [
            "{'train_loss': 1.975387046895912, 'train_acc': 0.01935546875, 'valid_acc': 0.035888671875}\n"
          ]
        },
        {
          "output_type": "stream",
          "name": "stderr",
          "text": [
            "  2%|▏         | 1004/51200 [00:23<27:04, 30.89it/s]"
          ]
        },
        {
          "output_type": "stream",
          "name": "stdout",
          "text": [
            "56m 23s (- 2831m 16s) (1000 1%) 1.8639\n"
          ]
        },
        {
          "output_type": "stream",
          "name": "stderr",
          "text": [
            "  4%|▍         | 2004/51200 [00:47<18:49, 43.57it/s]"
          ]
        },
        {
          "output_type": "stream",
          "name": "stdout",
          "text": [
            "56m 47s (- 1397m 10s) (2000 3%) 1.5850\n"
          ]
        },
        {
          "output_type": "stream",
          "name": "stderr",
          "text": [
            "  6%|▌         | 3008/51200 [01:11<15:48, 50.82it/s]"
          ]
        },
        {
          "output_type": "stream",
          "name": "stdout",
          "text": [
            "57m 11s (- 918m 53s) (3000 5%) 1.5012\n"
          ]
        },
        {
          "output_type": "stream",
          "name": "stderr",
          "text": [
            "  8%|▊         | 4005/51200 [01:35<26:28, 29.72it/s]"
          ]
        },
        {
          "output_type": "stream",
          "name": "stdout",
          "text": [
            "57m 35s (- 679m 39s) (4000 7%) 1.5765\n"
          ]
        },
        {
          "output_type": "stream",
          "name": "stderr",
          "text": [
            " 10%|▉         | 5006/51200 [01:58<15:41, 49.09it/s]"
          ]
        },
        {
          "output_type": "stream",
          "name": "stdout",
          "text": [
            "57m 58s (- 535m 43s) (5000 9%) 1.5449\n"
          ]
        },
        {
          "output_type": "stream",
          "name": "stderr",
          "text": [
            " 12%|█▏        | 6007/51200 [02:22<15:45, 47.79it/s]"
          ]
        },
        {
          "output_type": "stream",
          "name": "stdout",
          "text": [
            "58m 22s (- 439m 49s) (6000 11%) 1.5207\n"
          ]
        },
        {
          "output_type": "stream",
          "name": "stderr",
          "text": [
            " 14%|█▎        | 7003/51200 [02:46<24:04, 30.61it/s]"
          ]
        },
        {
          "output_type": "stream",
          "name": "stdout",
          "text": [
            "58m 47s (- 371m 11s) (7000 13%) 1.5808\n"
          ]
        },
        {
          "output_type": "stream",
          "name": "stderr",
          "text": [
            " 16%|█▌        | 8005/51200 [03:10<15:51, 45.39it/s]"
          ]
        },
        {
          "output_type": "stream",
          "name": "stdout",
          "text": [
            "59m 10s (- 319m 32s) (8000 15%) 1.5320\n"
          ]
        },
        {
          "output_type": "stream",
          "name": "stderr",
          "text": [
            " 18%|█▊        | 9007/51200 [03:34<15:29, 45.38it/s]"
          ]
        },
        {
          "output_type": "stream",
          "name": "stdout",
          "text": [
            "59m 34s (- 279m 22s) (9000 17%) 1.4983\n"
          ]
        },
        {
          "output_type": "stream",
          "name": "stderr",
          "text": [
            " 20%|█▉        | 10009/51200 [03:58<14:34, 47.09it/s]"
          ]
        },
        {
          "output_type": "stream",
          "name": "stdout",
          "text": [
            "59m 59s (- 247m 8s) (10000 19%) 1.5181\n"
          ]
        },
        {
          "output_type": "stream",
          "name": "stderr",
          "text": [
            " 21%|██▏       | 11006/51200 [04:21<14:25, 46.45it/s]"
          ]
        },
        {
          "output_type": "stream",
          "name": "stdout",
          "text": [
            "60m 22s (- 220m 37s) (11000 21%) 1.4909\n"
          ]
        },
        {
          "output_type": "stream",
          "name": "stderr",
          "text": [
            " 23%|██▎       | 12008/51200 [04:46<14:05, 46.37it/s]"
          ]
        },
        {
          "output_type": "stream",
          "name": "stdout",
          "text": [
            "60m 46s (- 198m 32s) (12000 23%) 1.5436\n"
          ]
        },
        {
          "output_type": "stream",
          "name": "stderr",
          "text": [
            " 25%|██▌       | 13006/51200 [05:10<13:36, 46.78it/s]"
          ]
        },
        {
          "output_type": "stream",
          "name": "stdout",
          "text": [
            "61m 10s (- 179m 46s) (13000 25%) 1.5033\n"
          ]
        },
        {
          "output_type": "stream",
          "name": "stderr",
          "text": [
            " 27%|██▋       | 14005/51200 [05:33<17:00, 36.45it/s]"
          ]
        },
        {
          "output_type": "stream",
          "name": "stdout",
          "text": [
            "61m 34s (- 163m 35s) (14000 27%) 1.4926\n"
          ]
        },
        {
          "output_type": "stream",
          "name": "stderr",
          "text": [
            " 29%|██▉       | 15009/51200 [05:58<11:58, 50.39it/s]"
          ]
        },
        {
          "output_type": "stream",
          "name": "stdout",
          "text": [
            "61m 58s (- 149m 33s) (15000 29%) 1.5137\n"
          ]
        },
        {
          "output_type": "stream",
          "name": "stderr",
          "text": [
            " 31%|███▏      | 16004/51200 [06:22<13:33, 43.26it/s]"
          ]
        },
        {
          "output_type": "stream",
          "name": "stdout",
          "text": [
            "62m 22s (- 137m 13s) (16000 31%) 1.4538\n"
          ]
        },
        {
          "output_type": "stream",
          "name": "stderr",
          "text": [
            " 33%|███▎      | 17004/51200 [06:45<16:46, 33.98it/s]"
          ]
        },
        {
          "output_type": "stream",
          "name": "stdout",
          "text": [
            "62m 45s (- 126m 16s) (17000 33%) 1.4481\n"
          ]
        },
        {
          "output_type": "stream",
          "name": "stderr",
          "text": [
            " 35%|███▌      | 18008/51200 [07:10<12:09, 45.47it/s]"
          ]
        },
        {
          "output_type": "stream",
          "name": "stdout",
          "text": [
            "63m 10s (- 116m 30s) (18000 35%) 1.4844\n"
          ]
        },
        {
          "output_type": "stream",
          "name": "stderr",
          "text": [
            " 37%|███▋      | 19008/51200 [07:34<11:13, 47.82it/s]"
          ]
        },
        {
          "output_type": "stream",
          "name": "stdout",
          "text": [
            "63m 34s (- 107m 44s) (19000 37%) 1.4951\n"
          ]
        },
        {
          "output_type": "stream",
          "name": "stderr",
          "text": [
            " 39%|███▉      | 20004/51200 [07:57<14:25, 36.04it/s]"
          ]
        },
        {
          "output_type": "stream",
          "name": "stdout",
          "text": [
            "63m 57s (- 99m 46s) (20000 39%) 1.4719\n"
          ]
        },
        {
          "output_type": "stream",
          "name": "stderr",
          "text": [
            " 41%|████      | 21006/51200 [08:21<11:48, 42.63it/s]"
          ]
        },
        {
          "output_type": "stream",
          "name": "stdout",
          "text": [
            "64m 21s (- 92m 33s) (21000 41%) 1.4342\n"
          ]
        },
        {
          "output_type": "stream",
          "name": "stderr",
          "text": [
            " 43%|████▎     | 22007/51200 [08:45<10:19, 47.15it/s]"
          ]
        },
        {
          "output_type": "stream",
          "name": "stdout",
          "text": [
            "64m 45s (- 85m 56s) (22000 42%) 1.4678\n"
          ]
        },
        {
          "output_type": "stream",
          "name": "stderr",
          "text": [
            " 45%|████▍     | 23007/51200 [09:08<13:02, 36.04it/s]"
          ]
        },
        {
          "output_type": "stream",
          "name": "stdout",
          "text": [
            "65m 8s (- 79m 51s) (23000 44%) 1.4431\n"
          ]
        },
        {
          "output_type": "stream",
          "name": "stderr",
          "text": [
            " 47%|████▋     | 24005/51200 [09:32<09:37, 47.09it/s]"
          ]
        },
        {
          "output_type": "stream",
          "name": "stdout",
          "text": [
            "65m 32s (- 74m 16s) (24000 46%) 1.4870\n"
          ]
        },
        {
          "output_type": "stream",
          "name": "stderr",
          "text": [
            " 49%|████▉     | 25008/51200 [09:56<09:30, 45.88it/s]"
          ]
        },
        {
          "output_type": "stream",
          "name": "stdout",
          "text": [
            "65m 56s (- 69m 6s) (25000 48%) 1.4585\n"
          ]
        },
        {
          "output_type": "stream",
          "name": "stderr",
          "text": [
            " 51%|█████     | 26007/51200 [10:20<11:32, 36.39it/s]"
          ]
        },
        {
          "output_type": "stream",
          "name": "stdout",
          "text": [
            "66m 20s (- 64m 17s) (26000 50%) 1.4646\n"
          ]
        },
        {
          "output_type": "stream",
          "name": "stderr",
          "text": [
            " 53%|█████▎    | 27008/51200 [10:43<09:21, 43.08it/s]"
          ]
        },
        {
          "output_type": "stream",
          "name": "stdout",
          "text": [
            "66m 43s (- 59m 48s) (27000 52%) 1.4578\n"
          ]
        },
        {
          "output_type": "stream",
          "name": "stderr",
          "text": [
            " 55%|█████▍    | 28009/51200 [11:08<08:38, 44.73it/s]"
          ]
        },
        {
          "output_type": "stream",
          "name": "stdout",
          "text": [
            "67m 8s (- 55m 37s) (28000 54%) 1.4554\n"
          ]
        },
        {
          "output_type": "stream",
          "name": "stderr",
          "text": [
            " 57%|█████▋    | 29006/51200 [11:31<10:38, 34.78it/s]"
          ]
        },
        {
          "output_type": "stream",
          "name": "stdout",
          "text": [
            "67m 31s (- 51m 41s) (29000 56%) 1.4485\n"
          ]
        },
        {
          "output_type": "stream",
          "name": "stderr",
          "text": [
            " 59%|█████▊    | 30009/51200 [11:54<07:40, 45.98it/s]"
          ]
        },
        {
          "output_type": "stream",
          "name": "stdout",
          "text": [
            "67m 54s (- 47m 59s) (30000 58%) 1.3962\n"
          ]
        },
        {
          "output_type": "stream",
          "name": "stderr",
          "text": [
            " 61%|██████    | 31005/51200 [12:19<07:15, 46.42it/s]"
          ]
        },
        {
          "output_type": "stream",
          "name": "stdout",
          "text": [
            "68m 19s (- 44m 31s) (31000 60%) 1.4751\n"
          ]
        },
        {
          "output_type": "stream",
          "name": "stderr",
          "text": [
            " 63%|██████▎   | 32004/51200 [12:43<11:16, 28.40it/s]"
          ]
        },
        {
          "output_type": "stream",
          "name": "stdout",
          "text": [
            "68m 43s (- 41m 14s) (32000 62%) 1.4085\n"
          ]
        },
        {
          "output_type": "stream",
          "name": "stderr",
          "text": [
            " 64%|██████▍   | 33008/51200 [13:06<07:21, 41.16it/s]"
          ]
        },
        {
          "output_type": "stream",
          "name": "stdout",
          "text": [
            "69m 6s (- 38m 6s) (33000 64%) 1.4206\n"
          ]
        },
        {
          "output_type": "stream",
          "name": "stderr",
          "text": [
            " 66%|██████▋   | 34007/51200 [13:30<05:59, 47.80it/s]"
          ]
        },
        {
          "output_type": "stream",
          "name": "stdout",
          "text": [
            "69m 30s (- 35m 10s) (34000 66%) 1.4247\n"
          ]
        },
        {
          "output_type": "stream",
          "name": "stderr",
          "text": [
            " 68%|██████▊   | 35004/51200 [13:54<08:00, 33.68it/s]"
          ]
        },
        {
          "output_type": "stream",
          "name": "stdout",
          "text": [
            "69m 54s (- 32m 21s) (35000 68%) 1.4223\n"
          ]
        },
        {
          "output_type": "stream",
          "name": "stderr",
          "text": [
            " 70%|███████   | 36008/51200 [14:17<05:15, 48.16it/s]"
          ]
        },
        {
          "output_type": "stream",
          "name": "stdout",
          "text": [
            "70m 17s (- 29m 40s) (36000 70%) 1.4050\n"
          ]
        },
        {
          "output_type": "stream",
          "name": "stderr",
          "text": [
            " 72%|███████▏  | 37005/51200 [14:41<05:08, 46.08it/s]"
          ]
        },
        {
          "output_type": "stream",
          "name": "stdout",
          "text": [
            "70m 41s (- 27m 7s) (37000 72%) 1.4011\n"
          ]
        },
        {
          "output_type": "stream",
          "name": "stderr",
          "text": [
            " 74%|███████▍  | 38004/51200 [15:06<07:14, 30.38it/s]"
          ]
        },
        {
          "output_type": "stream",
          "name": "stdout",
          "text": [
            "71m 6s (- 24m 41s) (38000 74%) 1.3771\n"
          ]
        },
        {
          "output_type": "stream",
          "name": "stderr",
          "text": [
            " 76%|███████▌  | 39009/51200 [15:29<04:28, 45.47it/s]"
          ]
        },
        {
          "output_type": "stream",
          "name": "stdout",
          "text": [
            "71m 29s (- 22m 21s) (39000 76%) 1.4319\n"
          ]
        },
        {
          "output_type": "stream",
          "name": "stderr",
          "text": [
            " 78%|███████▊  | 40005/51200 [15:53<04:18, 43.27it/s]"
          ]
        },
        {
          "output_type": "stream",
          "name": "stdout",
          "text": [
            "71m 53s (- 20m 7s) (40000 78%) 1.4041\n"
          ]
        },
        {
          "output_type": "stream",
          "name": "stderr",
          "text": [
            " 80%|████████  | 41005/51200 [16:17<03:51, 44.10it/s]"
          ]
        },
        {
          "output_type": "stream",
          "name": "stdout",
          "text": [
            "72m 17s (- 17m 59s) (41000 80%) 1.3880\n"
          ]
        },
        {
          "output_type": "stream",
          "name": "stderr",
          "text": [
            " 82%|████████▏ | 42008/51200 [16:41<03:24, 44.91it/s]"
          ]
        },
        {
          "output_type": "stream",
          "name": "stdout",
          "text": [
            "72m 41s (- 15m 55s) (42000 82%) 1.3744\n"
          ]
        },
        {
          "output_type": "stream",
          "name": "stderr",
          "text": [
            " 84%|████████▍ | 43010/51200 [17:05<02:49, 48.41it/s]"
          ]
        },
        {
          "output_type": "stream",
          "name": "stdout",
          "text": [
            "73m 5s (- 13m 56s) (43000 83%) 1.3742\n"
          ]
        },
        {
          "output_type": "stream",
          "name": "stderr",
          "text": [
            " 86%|████████▌ | 44006/51200 [17:29<02:41, 44.65it/s]"
          ]
        },
        {
          "output_type": "stream",
          "name": "stdout",
          "text": [
            "73m 29s (- 12m 1s) (44000 85%) 1.3874\n"
          ]
        },
        {
          "output_type": "stream",
          "name": "stderr",
          "text": [
            " 88%|████████▊ | 45007/51200 [17:52<02:16, 45.46it/s]"
          ]
        },
        {
          "output_type": "stream",
          "name": "stdout",
          "text": [
            "73m 52s (- 10m 10s) (45000 87%) 1.4038\n"
          ]
        },
        {
          "output_type": "stream",
          "name": "stderr",
          "text": [
            " 90%|████████▉ | 46007/51200 [18:16<01:47, 48.51it/s]"
          ]
        },
        {
          "output_type": "stream",
          "name": "stdout",
          "text": [
            "74m 17s (- 8m 23s) (46000 89%) 1.4164\n"
          ]
        },
        {
          "output_type": "stream",
          "name": "stderr",
          "text": [
            " 92%|█████████▏| 47005/51200 [18:41<01:33, 44.88it/s]"
          ]
        },
        {
          "output_type": "stream",
          "name": "stdout",
          "text": [
            "74m 41s (- 6m 40s) (47000 91%) 1.4248\n"
          ]
        },
        {
          "output_type": "stream",
          "name": "stderr",
          "text": [
            " 94%|█████████▍| 48003/51200 [19:03<01:14, 42.64it/s]"
          ]
        },
        {
          "output_type": "stream",
          "name": "stdout",
          "text": [
            "75m 4s (- 5m 0s) (48000 93%) 1.3619\n"
          ]
        },
        {
          "output_type": "stream",
          "name": "stderr",
          "text": [
            " 96%|█████████▌| 49009/51200 [19:28<00:47, 46.39it/s]"
          ]
        },
        {
          "output_type": "stream",
          "name": "stdout",
          "text": [
            "75m 28s (- 3m 23s) (49000 95%) 1.3713\n"
          ]
        },
        {
          "output_type": "stream",
          "name": "stderr",
          "text": [
            " 98%|█████████▊| 50008/51200 [19:52<00:27, 43.11it/s]"
          ]
        },
        {
          "output_type": "stream",
          "name": "stdout",
          "text": [
            "75m 52s (- 1m 49s) (50000 97%) 1.3435\n"
          ]
        },
        {
          "output_type": "stream",
          "name": "stderr",
          "text": [
            "100%|█████████▉| 51005/51200 [20:15<00:05, 35.59it/s]"
          ]
        },
        {
          "output_type": "stream",
          "name": "stdout",
          "text": [
            "76m 15s (- 0m 17s) (51000 99%) 1.3601\n"
          ]
        },
        {
          "output_type": "stream",
          "name": "stderr",
          "text": [
            "100%|██████████| 51200/51200 [20:20<00:00, 41.94it/s]\n"
          ]
        },
        {
          "output_type": "stream",
          "name": "stdout",
          "text": [
            "{'train_loss': 1.4543220968451471, 'train_acc': 0.04017578125, 'valid_acc': 0.06201171875}\n"
          ]
        },
        {
          "output_type": "stream",
          "name": "stderr",
          "text": [
            "  2%|▏         | 1009/51200 [00:23<18:41, 44.73it/s]"
          ]
        },
        {
          "output_type": "stream",
          "name": "stdout",
          "text": [
            "84m 16s (- 4230m 44s) (1000 1%) 1.6193\n"
          ]
        },
        {
          "output_type": "stream",
          "name": "stderr",
          "text": [
            "  4%|▍         | 2004/51200 [00:46<19:37, 41.78it/s]"
          ]
        },
        {
          "output_type": "stream",
          "name": "stdout",
          "text": [
            "84m 39s (- 2082m 43s) (2000 3%) 1.3660\n"
          ]
        },
        {
          "output_type": "stream",
          "name": "stderr",
          "text": [
            "  6%|▌         | 3007/51200 [01:10<15:40, 51.23it/s]"
          ]
        },
        {
          "output_type": "stream",
          "name": "stdout",
          "text": [
            "85m 3s (- 1366m 36s) (3000 5%) 1.3047\n"
          ]
        },
        {
          "output_type": "stream",
          "name": "stderr",
          "text": [
            "  8%|▊         | 4008/51200 [01:35<18:41, 42.08it/s]"
          ]
        },
        {
          "output_type": "stream",
          "name": "stdout",
          "text": [
            "85m 27s (- 1008m 27s) (4000 7%) 1.3666\n"
          ]
        },
        {
          "output_type": "stream",
          "name": "stderr",
          "text": [
            " 10%|▉         | 5007/51200 [01:57<15:39, 49.16it/s]"
          ]
        },
        {
          "output_type": "stream",
          "name": "stdout",
          "text": [
            "85m 50s (- 793m 8s) (5000 9%) 1.3674\n"
          ]
        },
        {
          "output_type": "stream",
          "name": "stderr",
          "text": [
            " 12%|█▏        | 6007/51200 [02:21<17:00, 44.28it/s]"
          ]
        },
        {
          "output_type": "stream",
          "name": "stdout",
          "text": [
            "86m 14s (- 649m 40s) (6000 11%) 1.3312\n"
          ]
        },
        {
          "output_type": "stream",
          "name": "stderr",
          "text": [
            " 14%|█▎        | 7003/51200 [02:45<16:56, 43.47it/s]"
          ]
        },
        {
          "output_type": "stream",
          "name": "stdout",
          "text": [
            "86m 38s (- 547m 6s) (7000 13%) 1.3924\n"
          ]
        },
        {
          "output_type": "stream",
          "name": "stderr",
          "text": [
            " 16%|█▌        | 8005/51200 [03:09<15:45, 45.70it/s]"
          ]
        },
        {
          "output_type": "stream",
          "name": "stdout",
          "text": [
            "87m 1s (- 469m 58s) (8000 15%) 1.3354\n"
          ]
        },
        {
          "output_type": "stream",
          "name": "stderr",
          "text": [
            " 18%|█▊        | 9006/51200 [03:33<15:34, 45.17it/s]"
          ]
        },
        {
          "output_type": "stream",
          "name": "stdout",
          "text": [
            "87m 26s (- 410m 0s) (9000 17%) 1.3047\n"
          ]
        },
        {
          "output_type": "stream",
          "name": "stderr",
          "text": [
            " 20%|█▉        | 10009/51200 [03:58<14:58, 45.84it/s]"
          ]
        },
        {
          "output_type": "stream",
          "name": "stdout",
          "text": [
            "87m 51s (- 361m 56s) (10000 19%) 1.3041\n"
          ]
        },
        {
          "output_type": "stream",
          "name": "stderr",
          "text": [
            " 21%|██▏       | 11006/51200 [04:21<21:08, 31.68it/s]"
          ]
        },
        {
          "output_type": "stream",
          "name": "stdout",
          "text": [
            "88m 14s (- 322m 29s) (11000 21%) 1.3469\n"
          ]
        },
        {
          "output_type": "stream",
          "name": "stderr",
          "text": [
            " 23%|██▎       | 12007/51200 [04:45<14:38, 44.63it/s]"
          ]
        },
        {
          "output_type": "stream",
          "name": "stdout",
          "text": [
            "88m 38s (- 289m 34s) (12000 23%) 1.3658\n"
          ]
        },
        {
          "output_type": "stream",
          "name": "stderr",
          "text": [
            " 25%|██▌       | 13007/51200 [05:10<14:09, 44.96it/s]"
          ]
        },
        {
          "output_type": "stream",
          "name": "stdout",
          "text": [
            "89m 2s (- 261m 39s) (13000 25%) 1.3211\n"
          ]
        },
        {
          "output_type": "stream",
          "name": "stderr",
          "text": [
            " 27%|██▋       | 14007/51200 [05:33<17:22, 35.67it/s]"
          ]
        },
        {
          "output_type": "stream",
          "name": "stdout",
          "text": [
            "89m 26s (- 237m 40s) (14000 27%) 1.3287\n"
          ]
        },
        {
          "output_type": "stream",
          "name": "stderr",
          "text": [
            " 29%|██▉       | 15005/51200 [05:57<12:36, 47.83it/s]"
          ]
        },
        {
          "output_type": "stream",
          "name": "stdout",
          "text": [
            "89m 50s (- 216m 48s) (15000 29%) 1.3209\n"
          ]
        },
        {
          "output_type": "stream",
          "name": "stderr",
          "text": [
            " 31%|███▏      | 16004/51200 [06:21<13:31, 43.36it/s]"
          ]
        },
        {
          "output_type": "stream",
          "name": "stdout",
          "text": [
            "90m 14s (- 198m 32s) (16000 31%) 1.2749\n"
          ]
        },
        {
          "output_type": "stream",
          "name": "stderr",
          "text": [
            " 33%|███▎      | 17005/51200 [06:46<19:26, 29.32it/s]"
          ]
        },
        {
          "output_type": "stream",
          "name": "stdout",
          "text": [
            "90m 39s (- 182m 22s) (17000 33%) 1.2890\n"
          ]
        },
        {
          "output_type": "stream",
          "name": "stderr",
          "text": [
            " 35%|███▌      | 18007/51200 [07:09<12:26, 44.44it/s]"
          ]
        },
        {
          "output_type": "stream",
          "name": "stdout",
          "text": [
            "91m 2s (- 167m 55s) (18000 35%) 1.3279\n"
          ]
        },
        {
          "output_type": "stream",
          "name": "stderr",
          "text": [
            " 37%|███▋      | 19009/51200 [07:34<11:33, 46.40it/s]"
          ]
        },
        {
          "output_type": "stream",
          "name": "stdout",
          "text": [
            "91m 26s (- 154m 59s) (19000 37%) 1.3001\n"
          ]
        },
        {
          "output_type": "stream",
          "name": "stderr",
          "text": [
            " 39%|███▉      | 20006/51200 [07:58<13:03, 39.83it/s]"
          ]
        },
        {
          "output_type": "stream",
          "name": "stdout",
          "text": [
            "91m 51s (- 143m 17s) (20000 39%) 1.3051\n"
          ]
        },
        {
          "output_type": "stream",
          "name": "stderr",
          "text": [
            " 41%|████      | 21007/51200 [08:21<11:16, 44.61it/s]"
          ]
        },
        {
          "output_type": "stream",
          "name": "stdout",
          "text": [
            "92m 14s (- 132m 39s) (21000 41%) 1.3029\n"
          ]
        },
        {
          "output_type": "stream",
          "name": "stderr",
          "text": [
            " 43%|████▎     | 22007/51200 [08:45<10:32, 46.15it/s]"
          ]
        },
        {
          "output_type": "stream",
          "name": "stdout",
          "text": [
            "92m 38s (- 122m 57s) (22000 42%) 1.2655\n"
          ]
        },
        {
          "output_type": "stream",
          "name": "stderr",
          "text": [
            " 45%|████▍     | 23006/51200 [09:10<09:42, 48.37it/s]"
          ]
        },
        {
          "output_type": "stream",
          "name": "stdout",
          "text": [
            "93m 3s (- 114m 5s) (23000 44%) 1.2628\n"
          ]
        },
        {
          "output_type": "stream",
          "name": "stderr",
          "text": [
            " 47%|████▋     | 24006/51200 [09:33<12:45, 35.53it/s]"
          ]
        },
        {
          "output_type": "stream",
          "name": "stdout",
          "text": [
            "93m 26s (- 105m 53s) (24000 46%) 1.3096\n"
          ]
        },
        {
          "output_type": "stream",
          "name": "stderr",
          "text": [
            " 49%|████▉     | 25006/51200 [09:57<10:08, 43.05it/s]"
          ]
        },
        {
          "output_type": "stream",
          "name": "stdout",
          "text": [
            "93m 50s (- 98m 20s) (25000 48%) 1.2735\n"
          ]
        },
        {
          "output_type": "stream",
          "name": "stderr",
          "text": [
            " 51%|█████     | 26011/51200 [10:22<08:24, 49.89it/s]"
          ]
        },
        {
          "output_type": "stream",
          "name": "stdout",
          "text": [
            "94m 14s (- 91m 20s) (26000 50%) 1.2673\n"
          ]
        },
        {
          "output_type": "stream",
          "name": "stderr",
          "text": [
            " 53%|█████▎    | 27004/51200 [10:45<12:30, 32.24it/s]"
          ]
        },
        {
          "output_type": "stream",
          "name": "stdout",
          "text": [
            "94m 38s (- 84m 49s) (27000 52%) 1.3000\n"
          ]
        },
        {
          "output_type": "stream",
          "name": "stderr",
          "text": [
            " 55%|█████▍    | 28008/51200 [11:09<08:54, 43.40it/s]"
          ]
        },
        {
          "output_type": "stream",
          "name": "stdout",
          "text": [
            "95m 2s (- 78m 44s) (28000 54%) 1.2966\n"
          ]
        },
        {
          "output_type": "stream",
          "name": "stderr",
          "text": [
            " 57%|█████▋    | 29007/51200 [11:33<07:41, 48.05it/s]"
          ]
        },
        {
          "output_type": "stream",
          "name": "stdout",
          "text": [
            "95m 26s (- 73m 3s) (29000 56%) 1.2824\n"
          ]
        },
        {
          "output_type": "stream",
          "name": "stderr",
          "text": [
            " 59%|█████▊    | 30003/51200 [11:56<11:12, 31.52it/s]"
          ]
        },
        {
          "output_type": "stream",
          "name": "stdout",
          "text": [
            "95m 49s (- 67m 43s) (30000 58%) 1.2700\n"
          ]
        },
        {
          "output_type": "stream",
          "name": "stderr",
          "text": [
            " 61%|██████    | 31008/51200 [12:20<07:18, 46.06it/s]"
          ]
        },
        {
          "output_type": "stream",
          "name": "stdout",
          "text": [
            "96m 13s (- 62m 42s) (31000 60%) 1.2903\n"
          ]
        },
        {
          "output_type": "stream",
          "name": "stderr",
          "text": [
            " 63%|██████▎   | 32008/51200 [12:45<07:19, 43.66it/s]"
          ]
        },
        {
          "output_type": "stream",
          "name": "stdout",
          "text": [
            "96m 37s (- 57m 58s) (32000 62%) 1.2527\n"
          ]
        },
        {
          "output_type": "stream",
          "name": "stderr",
          "text": [
            " 64%|██████▍   | 33006/51200 [13:08<09:51, 30.76it/s]"
          ]
        },
        {
          "output_type": "stream",
          "name": "stdout",
          "text": [
            "97m 1s (- 53m 30s) (33000 64%) 1.2478\n"
          ]
        },
        {
          "output_type": "stream",
          "name": "stderr",
          "text": [
            " 66%|██████▋   | 34006/51200 [13:32<06:04, 47.16it/s]"
          ]
        },
        {
          "output_type": "stream",
          "name": "stdout",
          "text": [
            "97m 25s (- 49m 16s) (34000 66%) 1.2591\n"
          ]
        },
        {
          "output_type": "stream",
          "name": "stderr",
          "text": [
            " 68%|██████▊   | 35007/51200 [13:56<05:31, 48.79it/s]"
          ]
        },
        {
          "output_type": "stream",
          "name": "stdout",
          "text": [
            "97m 48s (- 45m 16s) (35000 68%) 1.2726\n"
          ]
        },
        {
          "output_type": "stream",
          "name": "stderr",
          "text": [
            " 70%|███████   | 36005/51200 [14:20<07:50, 32.31it/s]"
          ]
        },
        {
          "output_type": "stream",
          "name": "stdout",
          "text": [
            "98m 12s (- 41m 28s) (36000 70%) 1.2337\n"
          ]
        },
        {
          "output_type": "stream",
          "name": "stderr",
          "text": [
            " 72%|███████▏  | 37004/51200 [14:43<05:14, 45.17it/s]"
          ]
        },
        {
          "output_type": "stream",
          "name": "stdout",
          "text": [
            "98m 36s (- 37m 50s) (37000 72%) 1.2536\n"
          ]
        },
        {
          "output_type": "stream",
          "name": "stderr",
          "text": [
            " 74%|███████▍  | 38005/51200 [15:07<04:39, 47.17it/s]"
          ]
        },
        {
          "output_type": "stream",
          "name": "stdout",
          "text": [
            "99m 0s (- 34m 23s) (38000 74%) 1.2509\n"
          ]
        },
        {
          "output_type": "stream",
          "name": "stderr",
          "text": [
            " 76%|███████▌  | 39002/51200 [15:31<06:19, 32.10it/s]"
          ]
        },
        {
          "output_type": "stream",
          "name": "stdout",
          "text": [
            "99m 24s (- 31m 5s) (39000 76%) 1.2753\n"
          ]
        },
        {
          "output_type": "stream",
          "name": "stderr",
          "text": [
            " 78%|███████▊  | 40006/51200 [15:54<04:24, 42.39it/s]"
          ]
        },
        {
          "output_type": "stream",
          "name": "stdout",
          "text": [
            "99m 47s (- 27m 56s) (40000 78%) 1.2809\n"
          ]
        },
        {
          "output_type": "stream",
          "name": "stderr",
          "text": [
            " 80%|████████  | 41006/51200 [16:18<03:38, 46.74it/s]"
          ]
        },
        {
          "output_type": "stream",
          "name": "stdout",
          "text": [
            "100m 11s (- 24m 55s) (41000 80%) 1.2387\n"
          ]
        },
        {
          "output_type": "stream",
          "name": "stderr",
          "text": [
            " 82%|████████▏ | 42004/51200 [16:42<05:15, 29.19it/s]"
          ]
        },
        {
          "output_type": "stream",
          "name": "stdout",
          "text": [
            "100m 35s (- 22m 2s) (42000 82%) 1.2406\n"
          ]
        },
        {
          "output_type": "stream",
          "name": "stderr",
          "text": [
            " 84%|████████▍ | 43006/51200 [17:05<02:55, 46.82it/s]"
          ]
        },
        {
          "output_type": "stream",
          "name": "stdout",
          "text": [
            "100m 58s (- 19m 15s) (43000 83%) 1.2512\n"
          ]
        },
        {
          "output_type": "stream",
          "name": "stderr",
          "text": [
            " 86%|████████▌ | 44009/51200 [17:30<02:40, 44.81it/s]"
          ]
        },
        {
          "output_type": "stream",
          "name": "stdout",
          "text": [
            "101m 22s (- 16m 35s) (44000 85%) 1.2416\n"
          ]
        },
        {
          "output_type": "stream",
          "name": "stderr",
          "text": [
            " 88%|████████▊ | 45003/51200 [17:54<03:23, 30.38it/s]"
          ]
        },
        {
          "output_type": "stream",
          "name": "stdout",
          "text": [
            "101m 47s (- 14m 1s) (45000 87%) 1.2915\n"
          ]
        },
        {
          "output_type": "stream",
          "name": "stderr",
          "text": [
            " 90%|████████▉ | 46006/51200 [18:17<01:51, 46.58it/s]"
          ]
        },
        {
          "output_type": "stream",
          "name": "stdout",
          "text": [
            "102m 10s (- 11m 32s) (46000 89%) 1.2765\n"
          ]
        },
        {
          "output_type": "stream",
          "name": "stderr",
          "text": [
            " 92%|█████████▏| 47007/51200 [18:42<01:35, 43.72it/s]"
          ]
        },
        {
          "output_type": "stream",
          "name": "stdout",
          "text": [
            "102m 34s (- 9m 10s) (47000 91%) 1.2538\n"
          ]
        },
        {
          "output_type": "stream",
          "name": "stderr",
          "text": [
            " 94%|█████████▍| 48004/51200 [19:05<01:24, 37.76it/s]"
          ]
        },
        {
          "output_type": "stream",
          "name": "stdout",
          "text": [
            "102m 58s (- 6m 51s) (48000 93%) 1.2196\n"
          ]
        },
        {
          "output_type": "stream",
          "name": "stderr",
          "text": [
            " 96%|█████████▌| 49009/51200 [19:28<00:45, 47.64it/s]"
          ]
        },
        {
          "output_type": "stream",
          "name": "stdout",
          "text": [
            "103m 21s (- 4m 38s) (49000 95%) 1.2409\n"
          ]
        },
        {
          "output_type": "stream",
          "name": "stderr",
          "text": [
            " 98%|█████████▊| 50005/51200 [19:52<00:28, 42.45it/s]"
          ]
        },
        {
          "output_type": "stream",
          "name": "stdout",
          "text": [
            "103m 45s (- 2m 29s) (50000 97%) 1.2176\n"
          ]
        },
        {
          "output_type": "stream",
          "name": "stderr",
          "text": [
            "100%|█████████▉| 51008/51200 [20:16<00:04, 39.89it/s]"
          ]
        },
        {
          "output_type": "stream",
          "name": "stdout",
          "text": [
            "104m 9s (- 0m 24s) (51000 99%) 1.2117\n"
          ]
        },
        {
          "output_type": "stream",
          "name": "stderr",
          "text": [
            "100%|██████████| 51200/51200 [20:21<00:00, 41.93it/s]\n"
          ]
        },
        {
          "output_type": "stream",
          "name": "stdout",
          "text": [
            "{'train_loss': 1.2885891484840903, 'train_acc': 0.06544921875, 'valid_acc': 0.08837890625}\n"
          ]
        },
        {
          "output_type": "stream",
          "name": "stderr",
          "text": [
            "  2%|▏         | 1004/51200 [00:23<18:58, 44.08it/s]"
          ]
        },
        {
          "output_type": "stream",
          "name": "stdout",
          "text": [
            "112m 11s (- 5632m 20s) (1000 1%) 1.4519\n"
          ]
        },
        {
          "output_type": "stream",
          "name": "stderr",
          "text": [
            "  4%|▍         | 2006/51200 [00:48<19:03, 43.01it/s]"
          ]
        },
        {
          "output_type": "stream",
          "name": "stdout",
          "text": [
            "112m 36s (- 2770m 8s) (2000 3%) 1.2570\n"
          ]
        },
        {
          "output_type": "stream",
          "name": "stderr",
          "text": [
            "  6%|▌         | 3006/51200 [01:11<20:47, 38.63it/s]"
          ]
        },
        {
          "output_type": "stream",
          "name": "stdout",
          "text": [
            "112m 59s (- 1815m 21s) (3000 5%) 1.1805\n"
          ]
        },
        {
          "output_type": "stream",
          "name": "stderr",
          "text": [
            "  8%|▊         | 4006/51200 [01:35<18:21, 42.83it/s]"
          ]
        },
        {
          "output_type": "stream",
          "name": "stdout",
          "text": [
            "113m 23s (- 1338m 1s) (4000 7%) 1.2582\n"
          ]
        },
        {
          "output_type": "stream",
          "name": "stderr",
          "text": [
            " 10%|▉         | 5005/51200 [01:59<15:34, 49.42it/s]"
          ]
        },
        {
          "output_type": "stream",
          "name": "stdout",
          "text": [
            "113m 47s (- 1051m 24s) (5000 9%) 1.2444\n"
          ]
        },
        {
          "output_type": "stream",
          "name": "stderr",
          "text": [
            " 12%|█▏        | 6003/51200 [02:22<21:49, 34.51it/s]"
          ]
        },
        {
          "output_type": "stream",
          "name": "stdout",
          "text": [
            "114m 10s (- 860m 5s) (6000 11%) 1.2130\n"
          ]
        },
        {
          "output_type": "stream",
          "name": "stderr",
          "text": [
            " 14%|█▎        | 7007/51200 [02:46<17:52, 41.19it/s]"
          ]
        },
        {
          "output_type": "stream",
          "name": "stdout",
          "text": [
            "114m 34s (- 723m 28s) (7000 13%) 1.2741\n"
          ]
        },
        {
          "output_type": "stream",
          "name": "stderr",
          "text": [
            " 16%|█▌        | 8005/51200 [03:11<17:08, 42.00it/s]"
          ]
        },
        {
          "output_type": "stream",
          "name": "stdout",
          "text": [
            "114m 59s (- 620m 58s) (8000 15%) 1.2407\n"
          ]
        },
        {
          "output_type": "stream",
          "name": "stderr",
          "text": [
            " 18%|█▊        | 9005/51200 [03:37<25:56, 27.10it/s]"
          ]
        },
        {
          "output_type": "stream",
          "name": "stdout",
          "text": [
            "115m 25s (- 541m 11s) (9000 17%) 1.1946\n"
          ]
        },
        {
          "output_type": "stream",
          "name": "stderr",
          "text": [
            " 20%|█▉        | 10004/51200 [04:02<20:23, 33.68it/s]"
          ]
        },
        {
          "output_type": "stream",
          "name": "stdout",
          "text": [
            "115m 50s (- 477m 17s) (10000 19%) 1.2097\n"
          ]
        },
        {
          "output_type": "stream",
          "name": "stderr",
          "text": [
            " 22%|██▏       | 11008/51200 [04:27<14:51, 45.06it/s]"
          ]
        },
        {
          "output_type": "stream",
          "name": "stdout",
          "text": [
            "116m 15s (- 424m 51s) (11000 21%) 1.2206\n"
          ]
        },
        {
          "output_type": "stream",
          "name": "stderr",
          "text": [
            " 23%|██▎       | 12010/51200 [04:51<13:14, 49.33it/s]"
          ]
        },
        {
          "output_type": "stream",
          "name": "stdout",
          "text": [
            "116m 39s (- 381m 6s) (12000 23%) 1.2553\n"
          ]
        },
        {
          "output_type": "stream",
          "name": "stderr",
          "text": [
            " 25%|██▌       | 13004/51200 [05:15<20:10, 31.54it/s]"
          ]
        },
        {
          "output_type": "stream",
          "name": "stdout",
          "text": [
            "117m 3s (- 343m 58s) (13000 25%) 1.2261\n"
          ]
        },
        {
          "output_type": "stream",
          "name": "stderr",
          "text": [
            " 27%|██▋       | 14009/51200 [05:39<12:59, 47.69it/s]"
          ]
        },
        {
          "output_type": "stream",
          "name": "stdout",
          "text": [
            "117m 27s (- 312m 5s) (14000 27%) 1.2099\n"
          ]
        },
        {
          "output_type": "stream",
          "name": "stderr",
          "text": [
            " 29%|██▉       | 15006/51200 [06:03<12:44, 47.34it/s]"
          ]
        },
        {
          "output_type": "stream",
          "name": "stdout",
          "text": [
            "117m 51s (- 284m 26s) (15000 29%) 1.2301\n"
          ]
        },
        {
          "output_type": "stream",
          "name": "stderr",
          "text": [
            " 31%|███▏      | 16005/51200 [06:28<21:02, 27.88it/s]"
          ]
        },
        {
          "output_type": "stream",
          "name": "stdout",
          "text": [
            "118m 16s (- 260m 11s) (16000 31%) 1.1840\n"
          ]
        },
        {
          "output_type": "stream",
          "name": "stderr",
          "text": [
            " 33%|███▎      | 17008/51200 [06:52<12:35, 45.24it/s]"
          ]
        },
        {
          "output_type": "stream",
          "name": "stdout",
          "text": [
            "118m 39s (- 238m 43s) (17000 33%) 1.1960\n"
          ]
        },
        {
          "output_type": "stream",
          "name": "stderr",
          "text": [
            " 35%|███▌      | 18008/51200 [07:16<12:40, 43.62it/s]"
          ]
        },
        {
          "output_type": "stream",
          "name": "stdout",
          "text": [
            "119m 4s (- 219m 37s) (18000 35%) 1.2494\n"
          ]
        },
        {
          "output_type": "stream",
          "name": "stderr",
          "text": [
            " 37%|███▋      | 19009/51200 [07:40<11:46, 45.58it/s]"
          ]
        },
        {
          "output_type": "stream",
          "name": "stdout",
          "text": [
            "119m 28s (- 202m 29s) (19000 37%) 1.2261\n"
          ]
        },
        {
          "output_type": "stream",
          "name": "stderr",
          "text": [
            " 39%|███▉      | 20007/51200 [08:03<11:28, 45.31it/s]"
          ]
        },
        {
          "output_type": "stream",
          "name": "stdout",
          "text": [
            "119m 51s (- 186m 59s) (20000 39%) 1.2460\n"
          ]
        },
        {
          "output_type": "stream",
          "name": "stderr",
          "text": [
            " 41%|████      | 21004/51200 [08:28<11:38, 43.24it/s]"
          ]
        },
        {
          "output_type": "stream",
          "name": "stdout",
          "text": [
            "120m 16s (- 172m 57s) (21000 41%) 1.1938\n"
          ]
        },
        {
          "output_type": "stream",
          "name": "stderr",
          "text": [
            " 43%|████▎     | 22006/51200 [08:52<10:25, 46.70it/s]"
          ]
        },
        {
          "output_type": "stream",
          "name": "stdout",
          "text": [
            "120m 40s (- 160m 9s) (22000 42%) 1.1568\n"
          ]
        },
        {
          "output_type": "stream",
          "name": "stderr",
          "text": [
            " 45%|████▍     | 23005/51200 [09:15<12:00, 39.11it/s]"
          ]
        },
        {
          "output_type": "stream",
          "name": "stdout",
          "text": [
            "121m 3s (- 148m 25s) (23000 44%) 1.2013\n"
          ]
        },
        {
          "output_type": "stream",
          "name": "stderr",
          "text": [
            " 47%|████▋     | 24004/51200 [09:39<09:22, 48.33it/s]"
          ]
        },
        {
          "output_type": "stream",
          "name": "stdout",
          "text": [
            "121m 27s (- 137m 39s) (24000 46%) 1.2433\n"
          ]
        },
        {
          "output_type": "stream",
          "name": "stderr",
          "text": [
            " 49%|████▉     | 25007/51200 [10:04<09:48, 44.49it/s]"
          ]
        },
        {
          "output_type": "stream",
          "name": "stdout",
          "text": [
            "121m 52s (- 127m 43s) (25000 48%) 1.1854\n"
          ]
        },
        {
          "output_type": "stream",
          "name": "stderr",
          "text": [
            " 51%|█████     | 26007/51200 [10:28<12:08, 34.58it/s]"
          ]
        },
        {
          "output_type": "stream",
          "name": "stdout",
          "text": [
            "122m 15s (- 118m 30s) (26000 50%) 1.2050\n"
          ]
        },
        {
          "output_type": "stream",
          "name": "stderr",
          "text": [
            " 53%|█████▎    | 27008/51200 [10:52<09:11, 43.86it/s]"
          ]
        },
        {
          "output_type": "stream",
          "name": "stdout",
          "text": [
            "122m 40s (- 109m 57s) (27000 52%) 1.2079\n"
          ]
        },
        {
          "output_type": "stream",
          "name": "stderr",
          "text": [
            " 55%|█████▍    | 28006/51200 [11:18<09:22, 41.24it/s]"
          ]
        },
        {
          "output_type": "stream",
          "name": "stdout",
          "text": [
            "123m 6s (- 101m 59s) (28000 54%) 1.1909\n"
          ]
        },
        {
          "output_type": "stream",
          "name": "stderr",
          "text": [
            " 57%|█████▋    | 29009/51200 [11:42<09:24, 39.28it/s]"
          ]
        },
        {
          "output_type": "stream",
          "name": "stdout",
          "text": [
            "123m 30s (- 94m 32s) (29000 56%) 1.2061\n"
          ]
        },
        {
          "output_type": "stream",
          "name": "stderr",
          "text": [
            " 59%|█████▊    | 30005/51200 [12:05<08:01, 44.01it/s]"
          ]
        },
        {
          "output_type": "stream",
          "name": "stdout",
          "text": [
            "123m 53s (- 87m 33s) (30000 58%) 1.1829\n"
          ]
        },
        {
          "output_type": "stream",
          "name": "stderr",
          "text": [
            " 61%|██████    | 31003/51200 [12:30<07:28, 45.00it/s]"
          ]
        },
        {
          "output_type": "stream",
          "name": "stdout",
          "text": [
            "124m 18s (- 80m 59s) (31000 60%) 1.2174\n"
          ]
        },
        {
          "output_type": "stream",
          "name": "stderr",
          "text": [
            " 63%|██████▎   | 32005/51200 [12:55<07:50, 40.76it/s]"
          ]
        },
        {
          "output_type": "stream",
          "name": "stdout",
          "text": [
            "124m 42s (- 74m 49s) (32000 62%) 1.1784\n"
          ]
        },
        {
          "output_type": "stream",
          "name": "stderr",
          "text": [
            " 64%|██████▍   | 33004/51200 [13:18<09:07, 33.23it/s]"
          ]
        },
        {
          "output_type": "stream",
          "name": "stdout",
          "text": [
            "125m 6s (- 68m 59s) (33000 64%) 1.1747\n"
          ]
        },
        {
          "output_type": "stream",
          "name": "stderr",
          "text": [
            " 66%|██████▋   | 34006/51200 [13:42<06:21, 45.10it/s]"
          ]
        },
        {
          "output_type": "stream",
          "name": "stdout",
          "text": [
            "125m 30s (- 63m 29s) (34000 66%) 1.1888\n"
          ]
        },
        {
          "output_type": "stream",
          "name": "stderr",
          "text": [
            " 68%|██████▊   | 35009/51200 [14:06<05:59, 45.00it/s]"
          ]
        },
        {
          "output_type": "stream",
          "name": "stdout",
          "text": [
            "125m 54s (- 58m 16s) (35000 68%) 1.2175\n"
          ]
        },
        {
          "output_type": "stream",
          "name": "stderr",
          "text": [
            " 70%|███████   | 36005/51200 [14:29<07:19, 34.55it/s]"
          ]
        },
        {
          "output_type": "stream",
          "name": "stdout",
          "text": [
            "126m 17s (- 53m 19s) (36000 70%) 1.1775\n"
          ]
        },
        {
          "output_type": "stream",
          "name": "stderr",
          "text": [
            " 72%|███████▏  | 37005/51200 [14:53<05:15, 45.02it/s]"
          ]
        },
        {
          "output_type": "stream",
          "name": "stdout",
          "text": [
            "126m 41s (- 48m 37s) (37000 72%) 1.1802\n"
          ]
        },
        {
          "output_type": "stream",
          "name": "stderr",
          "text": [
            " 74%|███████▍  | 38005/51200 [15:18<04:39, 47.23it/s]"
          ]
        },
        {
          "output_type": "stream",
          "name": "stdout",
          "text": [
            "127m 6s (- 44m 9s) (38000 74%) 1.1741\n"
          ]
        },
        {
          "output_type": "stream",
          "name": "stderr",
          "text": [
            " 76%|███████▌  | 39005/51200 [15:42<06:02, 33.61it/s]"
          ]
        },
        {
          "output_type": "stream",
          "name": "stdout",
          "text": [
            "127m 29s (- 39m 53s) (39000 76%) 1.2025\n"
          ]
        },
        {
          "output_type": "stream",
          "name": "stderr",
          "text": [
            " 78%|███████▊  | 40004/51200 [16:06<04:16, 43.66it/s]"
          ]
        },
        {
          "output_type": "stream",
          "name": "stdout",
          "text": [
            "127m 53s (- 35m 48s) (40000 78%) 1.2089\n"
          ]
        },
        {
          "output_type": "stream",
          "name": "stderr",
          "text": [
            " 80%|████████  | 41005/51200 [16:30<03:35, 47.29it/s]"
          ]
        },
        {
          "output_type": "stream",
          "name": "stdout",
          "text": [
            "128m 18s (- 31m 55s) (41000 80%) 1.1766\n"
          ]
        },
        {
          "output_type": "stream",
          "name": "stderr",
          "text": [
            " 82%|████████▏ | 42004/51200 [16:54<04:50, 31.70it/s]"
          ]
        },
        {
          "output_type": "stream",
          "name": "stdout",
          "text": [
            "128m 42s (- 28m 11s) (42000 82%) 1.1756\n"
          ]
        },
        {
          "output_type": "stream",
          "name": "stderr",
          "text": [
            " 84%|████████▍ | 43006/51200 [17:17<02:50, 48.07it/s]"
          ]
        },
        {
          "output_type": "stream",
          "name": "stdout",
          "text": [
            "129m 5s (- 24m 37s) (43000 83%) 1.1522\n"
          ]
        },
        {
          "output_type": "stream",
          "name": "stderr",
          "text": [
            " 86%|████████▌ | 44008/51200 [17:42<02:41, 44.64it/s]"
          ]
        },
        {
          "output_type": "stream",
          "name": "stdout",
          "text": [
            "129m 30s (- 21m 11s) (44000 85%) 1.1838\n"
          ]
        },
        {
          "output_type": "stream",
          "name": "stderr",
          "text": [
            " 88%|████████▊ | 45005/51200 [18:06<03:46, 27.39it/s]"
          ]
        },
        {
          "output_type": "stream",
          "name": "stdout",
          "text": [
            "129m 54s (- 17m 53s) (45000 87%) 1.2158\n"
          ]
        },
        {
          "output_type": "stream",
          "name": "stderr",
          "text": [
            " 90%|████████▉ | 46007/51200 [18:29<01:50, 47.10it/s]"
          ]
        },
        {
          "output_type": "stream",
          "name": "stdout",
          "text": [
            "130m 17s (- 14m 43s) (46000 89%) 1.1999\n"
          ]
        },
        {
          "output_type": "stream",
          "name": "stderr",
          "text": [
            " 92%|█████████▏| 47007/51200 [18:54<01:35, 43.81it/s]"
          ]
        },
        {
          "output_type": "stream",
          "name": "stdout",
          "text": [
            "130m 42s (- 11m 40s) (47000 91%) 1.2168\n"
          ]
        },
        {
          "output_type": "stream",
          "name": "stderr",
          "text": [
            " 94%|█████████▍| 48004/51200 [19:18<01:10, 45.64it/s]"
          ]
        },
        {
          "output_type": "stream",
          "name": "stdout",
          "text": [
            "131m 6s (- 8m 44s) (48000 93%) 1.1753\n"
          ]
        },
        {
          "output_type": "stream",
          "name": "stderr",
          "text": [
            " 96%|█████████▌| 49008/51200 [19:41<00:48, 45.42it/s]"
          ]
        },
        {
          "output_type": "stream",
          "name": "stdout",
          "text": [
            "131m 29s (- 5m 54s) (49000 95%) 1.1878\n"
          ]
        },
        {
          "output_type": "stream",
          "name": "stderr",
          "text": [
            " 98%|█████████▊| 50003/51200 [20:06<00:30, 39.75it/s]"
          ]
        },
        {
          "output_type": "stream",
          "name": "stdout",
          "text": [
            "131m 54s (- 3m 9s) (50000 97%) 1.1360\n"
          ]
        },
        {
          "output_type": "stream",
          "name": "stderr",
          "text": [
            "100%|█████████▉| 51008/51200 [20:30<00:04, 44.10it/s]"
          ]
        },
        {
          "output_type": "stream",
          "name": "stdout",
          "text": [
            "132m 18s (- 0m 31s) (51000 99%) 1.1808\n"
          ]
        },
        {
          "output_type": "stream",
          "name": "stderr",
          "text": [
            "100%|██████████| 51200/51200 [20:34<00:00, 41.46it/s]\n"
          ]
        },
        {
          "output_type": "stream",
          "name": "stdout",
          "text": [
            "{'train_loss': 1.204060737004203, 'train_acc': 0.07572265625, 'valid_acc': 0.094970703125}\n"
          ]
        },
        {
          "output_type": "stream",
          "name": "stderr",
          "text": [
            "  2%|▏         | 1009/51200 [00:24<18:34, 45.05it/s]"
          ]
        },
        {
          "output_type": "stream",
          "name": "stdout",
          "text": [
            "140m 15s (- 7040m 46s) (1000 1%) 1.3940\n"
          ]
        },
        {
          "output_type": "stream",
          "name": "stderr",
          "text": [
            "  4%|▍         | 2003/51200 [00:47<24:23, 33.61it/s]"
          ]
        },
        {
          "output_type": "stream",
          "name": "stdout",
          "text": [
            "140m 38s (- 3459m 46s) (2000 3%) 1.1897\n"
          ]
        },
        {
          "output_type": "stream",
          "name": "stderr",
          "text": [
            "  6%|▌         | 3009/51200 [01:11<15:52, 50.60it/s]"
          ]
        },
        {
          "output_type": "stream",
          "name": "stdout",
          "text": [
            "141m 2s (- 2266m 1s) (3000 5%) 1.1232\n"
          ]
        },
        {
          "output_type": "stream",
          "name": "stderr",
          "text": [
            "  8%|▊         | 4008/51200 [01:35<17:53, 43.96it/s]"
          ]
        },
        {
          "output_type": "stream",
          "name": "stdout",
          "text": [
            "141m 26s (- 1669m 3s) (4000 7%) 1.1836\n"
          ]
        },
        {
          "output_type": "stream",
          "name": "stderr",
          "text": [
            " 10%|▉         | 5006/51200 [01:58<15:51, 48.55it/s]"
          ]
        },
        {
          "output_type": "stream",
          "name": "stdout",
          "text": [
            "141m 49s (- 1310m 26s) (5000 9%) 1.1580\n"
          ]
        },
        {
          "output_type": "stream",
          "name": "stderr",
          "text": [
            " 12%|█▏        | 6009/51200 [02:22<16:23, 45.97it/s]"
          ]
        },
        {
          "output_type": "stream",
          "name": "stdout",
          "text": [
            "142m 13s (- 1071m 25s) (6000 11%) 1.1485\n"
          ]
        },
        {
          "output_type": "stream",
          "name": "stderr",
          "text": [
            " 14%|█▎        | 7003/51200 [02:46<16:18, 45.15it/s]"
          ]
        },
        {
          "output_type": "stream",
          "name": "stdout",
          "text": [
            "142m 38s (- 900m 38s) (7000 13%) 1.2131\n"
          ]
        },
        {
          "output_type": "stream",
          "name": "stderr",
          "text": [
            " 16%|█▌        | 8004/51200 [03:10<21:57, 32.80it/s]"
          ]
        },
        {
          "output_type": "stream",
          "name": "stdout",
          "text": [
            "143m 1s (- 772m 20s) (8000 15%) 1.1826\n"
          ]
        },
        {
          "output_type": "stream",
          "name": "stderr",
          "text": [
            " 18%|█▊        | 9005/51200 [03:34<15:26, 45.52it/s]"
          ]
        },
        {
          "output_type": "stream",
          "name": "stdout",
          "text": [
            "143m 25s (- 672m 31s) (9000 17%) 1.1370\n"
          ]
        },
        {
          "output_type": "stream",
          "name": "stderr",
          "text": [
            " 20%|█▉        | 10007/51200 [03:59<15:09, 45.28it/s]"
          ]
        },
        {
          "output_type": "stream",
          "name": "stdout",
          "text": [
            "143m 50s (- 592m 36s) (10000 19%) 1.1758\n"
          ]
        },
        {
          "output_type": "stream",
          "name": "stderr",
          "text": [
            " 21%|██▏       | 11004/51200 [04:22<19:57, 33.56it/s]"
          ]
        },
        {
          "output_type": "stream",
          "name": "stdout",
          "text": [
            "144m 14s (- 527m 7s) (11000 21%) 1.1630\n"
          ]
        },
        {
          "output_type": "stream",
          "name": "stderr",
          "text": [
            " 23%|██▎       | 12010/51200 [04:46<13:39, 47.85it/s]"
          ]
        },
        {
          "output_type": "stream",
          "name": "stdout",
          "text": [
            "144m 38s (- 472m 28s) (12000 23%) 1.2041\n"
          ]
        },
        {
          "output_type": "stream",
          "name": "stderr",
          "text": [
            " 25%|██▌       | 13006/51200 [05:11<13:38, 46.67it/s]"
          ]
        },
        {
          "output_type": "stream",
          "name": "stdout",
          "text": [
            "145m 2s (- 426m 11s) (13000 25%) 1.1581\n"
          ]
        },
        {
          "output_type": "stream",
          "name": "stderr",
          "text": [
            " 27%|██▋       | 14003/51200 [05:34<18:18, 33.86it/s]"
          ]
        },
        {
          "output_type": "stream",
          "name": "stdout",
          "text": [
            "145m 26s (- 386m 26s) (14000 27%) 1.1455\n"
          ]
        },
        {
          "output_type": "stream",
          "name": "stderr",
          "text": [
            " 29%|██▉       | 15005/51200 [05:58<12:48, 47.08it/s]"
          ]
        },
        {
          "output_type": "stream",
          "name": "stdout",
          "text": [
            "145m 49s (- 351m 55s) (15000 29%) 1.1893\n"
          ]
        },
        {
          "output_type": "stream",
          "name": "stderr",
          "text": [
            " 31%|███▏      | 16004/51200 [06:22<13:40, 42.90it/s]"
          ]
        },
        {
          "output_type": "stream",
          "name": "stdout",
          "text": [
            "146m 14s (- 321m 43s) (16000 31%) 1.1283\n"
          ]
        },
        {
          "output_type": "stream",
          "name": "stderr",
          "text": [
            " 33%|███▎      | 17007/51200 [06:47<14:17, 39.88it/s]"
          ]
        },
        {
          "output_type": "stream",
          "name": "stdout",
          "text": [
            "146m 38s (- 295m 0s) (17000 33%) 1.1412\n"
          ]
        },
        {
          "output_type": "stream",
          "name": "stderr",
          "text": [
            " 35%|███▌      | 18006/51200 [07:10<12:06, 45.68it/s]"
          ]
        },
        {
          "output_type": "stream",
          "name": "stdout",
          "text": [
            "147m 1s (- 271m 11s) (18000 35%) 1.1838\n"
          ]
        },
        {
          "output_type": "stream",
          "name": "stderr",
          "text": [
            " 37%|███▋      | 19006/51200 [07:34<11:05, 48.40it/s]"
          ]
        },
        {
          "output_type": "stream",
          "name": "stdout",
          "text": [
            "147m 26s (- 249m 52s) (19000 37%) 1.1759\n"
          ]
        },
        {
          "output_type": "stream",
          "name": "stderr",
          "text": [
            " 39%|███▉      | 20005/51200 [07:59<11:02, 47.09it/s]"
          ]
        },
        {
          "output_type": "stream",
          "name": "stdout",
          "text": [
            "147m 50s (- 230m 38s) (20000 39%) 1.1810\n"
          ]
        },
        {
          "output_type": "stream",
          "name": "stderr",
          "text": [
            " 41%|████      | 21004/51200 [08:22<14:32, 34.59it/s]"
          ]
        },
        {
          "output_type": "stream",
          "name": "stdout",
          "text": [
            "148m 13s (- 213m 10s) (21000 41%) 1.1344\n"
          ]
        },
        {
          "output_type": "stream",
          "name": "stderr",
          "text": [
            " 43%|████▎     | 22006/51200 [08:46<10:30, 46.30it/s]"
          ]
        },
        {
          "output_type": "stream",
          "name": "stdout",
          "text": [
            "148m 37s (- 197m 16s) (22000 42%) 1.1327\n"
          ]
        },
        {
          "output_type": "stream",
          "name": "stderr",
          "text": [
            " 45%|████▍     | 23008/51200 [09:10<09:46, 48.03it/s]"
          ]
        },
        {
          "output_type": "stream",
          "name": "stdout",
          "text": [
            "149m 1s (- 182m 43s) (23000 44%) 1.1390\n"
          ]
        },
        {
          "output_type": "stream",
          "name": "stderr",
          "text": [
            " 47%|████▋     | 24003/51200 [09:34<12:37, 35.92it/s]"
          ]
        },
        {
          "output_type": "stream",
          "name": "stdout",
          "text": [
            "149m 25s (- 169m 20s) (24000 46%) 1.1626\n"
          ]
        },
        {
          "output_type": "stream",
          "name": "stderr",
          "text": [
            " 49%|████▉     | 25006/51200 [09:58<09:30, 45.87it/s]"
          ]
        },
        {
          "output_type": "stream",
          "name": "stdout",
          "text": [
            "149m 50s (- 157m 1s) (25000 48%) 1.1511\n"
          ]
        },
        {
          "output_type": "stream",
          "name": "stderr",
          "text": [
            " 51%|█████     | 26008/51200 [10:23<09:00, 46.61it/s]"
          ]
        },
        {
          "output_type": "stream",
          "name": "stdout",
          "text": [
            "150m 14s (- 145m 37s) (26000 50%) 1.1389\n"
          ]
        },
        {
          "output_type": "stream",
          "name": "stderr",
          "text": [
            " 53%|█████▎    | 27004/51200 [10:47<13:12, 30.51it/s]"
          ]
        },
        {
          "output_type": "stream",
          "name": "stdout",
          "text": [
            "150m 38s (- 135m 1s) (27000 52%) 1.1673\n"
          ]
        },
        {
          "output_type": "stream",
          "name": "stderr",
          "text": [
            " 55%|█████▍    | 28006/51200 [11:11<08:53, 43.44it/s]"
          ]
        },
        {
          "output_type": "stream",
          "name": "stdout",
          "text": [
            "151m 2s (- 125m 8s) (28000 54%) 1.1613\n"
          ]
        },
        {
          "output_type": "stream",
          "name": "stderr",
          "text": [
            " 57%|█████▋    | 29004/51200 [11:35<08:07, 45.49it/s]"
          ]
        },
        {
          "output_type": "stream",
          "name": "stdout",
          "text": [
            "151m 26s (- 115m 56s) (29000 56%) 1.1489\n"
          ]
        },
        {
          "output_type": "stream",
          "name": "stderr",
          "text": [
            " 59%|█████▊    | 30006/51200 [11:59<11:39, 30.29it/s]"
          ]
        },
        {
          "output_type": "stream",
          "name": "stdout",
          "text": [
            "151m 50s (- 107m 18s) (30000 58%) 1.1416\n"
          ]
        },
        {
          "output_type": "stream",
          "name": "stderr",
          "text": [
            " 61%|██████    | 31005/51200 [12:23<07:21, 45.72it/s]"
          ]
        },
        {
          "output_type": "stream",
          "name": "stdout",
          "text": [
            "152m 14s (- 99m 12s) (31000 60%) 1.1493\n"
          ]
        },
        {
          "output_type": "stream",
          "name": "stderr",
          "text": [
            " 63%|██████▎   | 32008/51200 [12:48<07:41, 41.60it/s]"
          ]
        },
        {
          "output_type": "stream",
          "name": "stdout",
          "text": [
            "152m 39s (- 91m 35s) (32000 62%) 1.1391\n"
          ]
        },
        {
          "output_type": "stream",
          "name": "stderr",
          "text": [
            " 64%|██████▍   | 33004/51200 [13:12<07:16, 41.72it/s]"
          ]
        },
        {
          "output_type": "stream",
          "name": "stdout",
          "text": [
            "153m 3s (- 84m 25s) (33000 64%) 1.1277\n"
          ]
        },
        {
          "output_type": "stream",
          "name": "stderr",
          "text": [
            " 66%|██████▋   | 34004/51200 [13:36<06:06, 46.86it/s]"
          ]
        },
        {
          "output_type": "stream",
          "name": "stdout",
          "text": [
            "153m 27s (- 77m 37s) (34000 66%) 1.1534\n"
          ]
        },
        {
          "output_type": "stream",
          "name": "stderr",
          "text": [
            " 68%|██████▊   | 35008/51200 [14:00<05:55, 45.57it/s]"
          ]
        },
        {
          "output_type": "stream",
          "name": "stdout",
          "text": [
            "153m 51s (- 71m 12s) (35000 68%) 1.1602\n"
          ]
        },
        {
          "output_type": "stream",
          "name": "stderr",
          "text": [
            " 70%|███████   | 36007/51200 [14:24<05:26, 46.52it/s]"
          ]
        },
        {
          "output_type": "stream",
          "name": "stdout",
          "text": [
            "154m 16s (- 65m 8s) (36000 70%) 1.1226\n"
          ]
        },
        {
          "output_type": "stream",
          "name": "stderr",
          "text": [
            " 72%|███████▏  | 37005/51200 [14:48<07:21, 32.15it/s]"
          ]
        },
        {
          "output_type": "stream",
          "name": "stdout",
          "text": [
            "154m 39s (- 59m 21s) (37000 72%) 1.1213\n"
          ]
        },
        {
          "output_type": "stream",
          "name": "stderr",
          "text": [
            " 74%|███████▍  | 38006/51200 [15:12<04:55, 44.66it/s]"
          ]
        },
        {
          "output_type": "stream",
          "name": "stdout",
          "text": [
            "155m 4s (- 53m 51s) (38000 74%) 1.1264\n"
          ]
        },
        {
          "output_type": "stream",
          "name": "stderr",
          "text": [
            " 76%|███████▌  | 39004/51200 [15:37<04:26, 45.69it/s]"
          ]
        },
        {
          "output_type": "stream",
          "name": "stdout",
          "text": [
            "155m 28s (- 48m 38s) (39000 76%) 1.1578\n"
          ]
        },
        {
          "output_type": "stream",
          "name": "stderr",
          "text": [
            " 78%|███████▊  | 40005/51200 [16:01<06:38, 28.09it/s]"
          ]
        },
        {
          "output_type": "stream",
          "name": "stdout",
          "text": [
            "155m 52s (- 43m 38s) (40000 78%) 1.1415\n"
          ]
        },
        {
          "output_type": "stream",
          "name": "stderr",
          "text": [
            " 80%|████████  | 41007/51200 [16:25<03:37, 46.94it/s]"
          ]
        },
        {
          "output_type": "stream",
          "name": "stdout",
          "text": [
            "156m 16s (- 38m 52s) (41000 80%) 1.1035\n"
          ]
        },
        {
          "output_type": "stream",
          "name": "stderr",
          "text": [
            " 82%|████████▏ | 42007/51200 [16:49<03:25, 44.69it/s]"
          ]
        },
        {
          "output_type": "stream",
          "name": "stdout",
          "text": [
            "156m 40s (- 34m 19s) (42000 82%) 1.1379\n"
          ]
        },
        {
          "output_type": "stream",
          "name": "stderr",
          "text": [
            " 84%|████████▍ | 43005/51200 [17:13<03:55, 34.77it/s]"
          ]
        },
        {
          "output_type": "stream",
          "name": "stdout",
          "text": [
            "157m 4s (- 29m 57s) (43000 83%) 1.1232\n"
          ]
        },
        {
          "output_type": "stream",
          "name": "stderr",
          "text": [
            " 86%|████████▌ | 44007/51200 [17:36<02:40, 44.87it/s]"
          ]
        },
        {
          "output_type": "stream",
          "name": "stdout",
          "text": [
            "157m 28s (- 25m 46s) (44000 85%) 1.1334\n"
          ]
        },
        {
          "output_type": "stream",
          "name": "stderr",
          "text": [
            " 88%|████████▊ | 45007/51200 [18:01<02:27, 41.88it/s]"
          ]
        },
        {
          "output_type": "stream",
          "name": "stdout",
          "text": [
            "157m 52s (- 21m 45s) (45000 87%) 1.1671\n"
          ]
        },
        {
          "output_type": "stream",
          "name": "stderr",
          "text": [
            " 90%|████████▉ | 46005/51200 [18:26<01:56, 44.47it/s]"
          ]
        },
        {
          "output_type": "stream",
          "name": "stdout",
          "text": [
            "158m 17s (- 17m 53s) (46000 89%) 1.1677\n"
          ]
        },
        {
          "output_type": "stream",
          "name": "stderr",
          "text": [
            " 92%|█████████▏| 47006/51200 [18:49<01:37, 43.08it/s]"
          ]
        },
        {
          "output_type": "stream",
          "name": "stdout",
          "text": [
            "158m 40s (- 14m 10s) (47000 91%) 1.1655\n"
          ]
        },
        {
          "output_type": "stream",
          "name": "stderr",
          "text": [
            " 94%|█████████▍| 48004/51200 [19:14<01:07, 47.31it/s]"
          ]
        },
        {
          "output_type": "stream",
          "name": "stdout",
          "text": [
            "159m 5s (- 10m 36s) (48000 93%) 1.1438\n"
          ]
        },
        {
          "output_type": "stream",
          "name": "stderr",
          "text": [
            " 96%|█████████▌| 49007/51200 [19:38<00:46, 47.34it/s]"
          ]
        },
        {
          "output_type": "stream",
          "name": "stdout",
          "text": [
            "159m 29s (- 7m 9s) (49000 95%) 1.1331\n"
          ]
        },
        {
          "output_type": "stream",
          "name": "stderr",
          "text": [
            " 98%|█████████▊| 50004/51200 [20:02<00:39, 30.16it/s]"
          ]
        },
        {
          "output_type": "stream",
          "name": "stdout",
          "text": [
            "159m 53s (- 3m 50s) (50000 97%) 1.0968\n"
          ]
        },
        {
          "output_type": "stream",
          "name": "stderr",
          "text": [
            "100%|█████████▉| 51008/51200 [20:26<00:04, 44.64it/s]"
          ]
        },
        {
          "output_type": "stream",
          "name": "stdout",
          "text": [
            "160m 17s (- 0m 37s) (51000 99%) 1.1402\n"
          ]
        },
        {
          "output_type": "stream",
          "name": "stderr",
          "text": [
            "100%|██████████| 51200/51200 [20:31<00:00, 41.58it/s]\n"
          ]
        },
        {
          "output_type": "stream",
          "name": "stdout",
          "text": [
            "{'train_loss': 1.151289311213242, 'train_acc': 0.08333984375, 'valid_acc': 0.1044921875}\n"
          ]
        },
        {
          "output_type": "stream",
          "name": "stderr",
          "text": [
            "  2%|▏         | 1004/51200 [00:24<18:53, 44.29it/s]"
          ]
        },
        {
          "output_type": "stream",
          "name": "stdout",
          "text": [
            "169m 52s (- 8527m 54s) (1000 1%) 1.3375\n"
          ]
        },
        {
          "output_type": "stream",
          "name": "stderr",
          "text": [
            "  4%|▍         | 2004/51200 [00:48<19:20, 42.40it/s]"
          ]
        },
        {
          "output_type": "stream",
          "name": "stdout",
          "text": [
            "170m 17s (- 4189m 5s) (2000 3%) 1.1640\n"
          ]
        },
        {
          "output_type": "stream",
          "name": "stderr",
          "text": [
            "  6%|▌         | 3004/51200 [01:11<21:12, 37.89it/s]"
          ]
        },
        {
          "output_type": "stream",
          "name": "stdout",
          "text": [
            "170m 40s (- 2742m 7s) (3000 5%) 1.0710\n"
          ]
        },
        {
          "output_type": "stream",
          "name": "stderr",
          "text": [
            "  8%|▊         | 4007/51200 [01:36<18:24, 42.74it/s]"
          ]
        },
        {
          "output_type": "stream",
          "name": "stdout",
          "text": [
            "171m 4s (- 2018m 44s) (4000 7%) 1.1340\n"
          ]
        },
        {
          "output_type": "stream",
          "name": "stderr",
          "text": [
            " 10%|▉         | 5006/51200 [02:00<15:41, 49.07it/s]"
          ]
        },
        {
          "output_type": "stream",
          "name": "stdout",
          "text": [
            "171m 28s (- 1584m 29s) (5000 9%) 1.1363\n"
          ]
        },
        {
          "output_type": "stream",
          "name": "stderr",
          "text": [
            " 12%|█▏        | 6005/51200 [02:23<22:19, 33.75it/s]"
          ]
        },
        {
          "output_type": "stream",
          "name": "stdout",
          "text": [
            "171m 52s (- 1294m 45s) (6000 11%) 1.1037\n"
          ]
        },
        {
          "output_type": "stream",
          "name": "stderr",
          "text": [
            " 14%|█▎        | 7003/51200 [02:48<16:26, 44.80it/s]"
          ]
        },
        {
          "output_type": "stream",
          "name": "stdout",
          "text": [
            "172m 16s (- 1087m 49s) (7000 13%) 1.1541\n"
          ]
        },
        {
          "output_type": "stream",
          "name": "stderr",
          "text": [
            " 16%|█▌        | 8006/51200 [03:13<15:59, 45.02it/s]"
          ]
        },
        {
          "output_type": "stream",
          "name": "stdout",
          "text": [
            "172m 41s (- 932m 32s) (8000 15%) 1.1262\n"
          ]
        },
        {
          "output_type": "stream",
          "name": "stderr",
          "text": [
            " 18%|█▊        | 9004/51200 [03:37<22:07, 31.78it/s]"
          ]
        },
        {
          "output_type": "stream",
          "name": "stdout",
          "text": [
            "173m 5s (- 811m 37s) (9000 17%) 1.1085\n"
          ]
        },
        {
          "output_type": "stream",
          "name": "stderr",
          "text": [
            " 20%|█▉        | 10006/51200 [04:01<15:03, 45.60it/s]"
          ]
        },
        {
          "output_type": "stream",
          "name": "stdout",
          "text": [
            "173m 29s (- 714m 48s) (10000 19%) 1.0962\n"
          ]
        },
        {
          "output_type": "stream",
          "name": "stderr",
          "text": [
            " 21%|██▏       | 11006/51200 [04:26<14:46, 45.35it/s]"
          ]
        },
        {
          "output_type": "stream",
          "name": "stdout",
          "text": [
            "173m 54s (- 635m 33s) (11000 21%) 1.1269\n"
          ]
        },
        {
          "output_type": "stream",
          "name": "stderr",
          "text": [
            " 23%|██▎       | 12007/51200 [04:50<15:11, 43.02it/s]"
          ]
        },
        {
          "output_type": "stream",
          "name": "stdout",
          "text": [
            "174m 19s (- 569m 27s) (12000 23%) 1.1835\n"
          ]
        },
        {
          "output_type": "stream",
          "name": "stderr",
          "text": [
            " 25%|██▌       | 13008/51200 [05:14<14:19, 44.43it/s]"
          ]
        },
        {
          "output_type": "stream",
          "name": "stdout",
          "text": [
            "174m 42s (- 513m 23s) (13000 25%) 1.1298\n"
          ]
        },
        {
          "output_type": "stream",
          "name": "stderr",
          "text": [
            " 27%|██▋       | 14004/51200 [05:38<12:50, 48.27it/s]"
          ]
        },
        {
          "output_type": "stream",
          "name": "stdout",
          "text": [
            "175m 7s (- 465m 19s) (14000 27%) 1.1152\n"
          ]
        },
        {
          "output_type": "stream",
          "name": "stderr",
          "text": [
            " 29%|██▉       | 15005/51200 [06:03<12:46, 47.22it/s]"
          ]
        },
        {
          "output_type": "stream",
          "name": "stdout",
          "text": [
            "175m 31s (- 423m 36s) (15000 29%) 1.1455\n"
          ]
        },
        {
          "output_type": "stream",
          "name": "stderr",
          "text": [
            " 31%|███▏      | 16003/51200 [06:27<19:17, 30.41it/s]"
          ]
        },
        {
          "output_type": "stream",
          "name": "stdout",
          "text": [
            "175m 55s (- 387m 2s) (16000 31%) 1.1083\n"
          ]
        },
        {
          "output_type": "stream",
          "name": "stderr",
          "text": [
            " 33%|███▎      | 17007/51200 [06:51<12:50, 44.37it/s]"
          ]
        },
        {
          "output_type": "stream",
          "name": "stdout",
          "text": [
            "176m 20s (- 354m 45s) (17000 33%) 1.0976\n"
          ]
        },
        {
          "output_type": "stream",
          "name": "stderr",
          "text": [
            " 35%|███▌      | 18004/51200 [07:16<12:05, 45.75it/s]"
          ]
        },
        {
          "output_type": "stream",
          "name": "stdout",
          "text": [
            "176m 45s (- 326m 0s) (18000 35%) 1.1355\n"
          ]
        },
        {
          "output_type": "stream",
          "name": "stderr",
          "text": [
            " 37%|███▋      | 19006/51200 [07:40<15:01, 35.71it/s]"
          ]
        },
        {
          "output_type": "stream",
          "name": "stdout",
          "text": [
            "177m 9s (- 300m 13s) (19000 37%) 1.1198\n"
          ]
        },
        {
          "output_type": "stream",
          "name": "stderr",
          "text": [
            " 39%|███▉      | 20008/51200 [08:04<11:44, 44.25it/s]"
          ]
        },
        {
          "output_type": "stream",
          "name": "stdout",
          "text": [
            "177m 32s (- 276m 58s) (20000 39%) 1.1490\n"
          ]
        },
        {
          "output_type": "stream",
          "name": "stderr",
          "text": [
            " 41%|████      | 21009/51200 [08:29<11:09, 45.12it/s]"
          ]
        },
        {
          "output_type": "stream",
          "name": "stdout",
          "text": [
            "177m 57s (- 255m 55s) (21000 41%) 1.0975\n"
          ]
        },
        {
          "output_type": "stream",
          "name": "stderr",
          "text": [
            " 43%|████▎     | 22006/51200 [08:53<11:50, 41.09it/s]"
          ]
        },
        {
          "output_type": "stream",
          "name": "stdout",
          "text": [
            "178m 21s (- 236m 44s) (22000 42%) 1.0835\n"
          ]
        },
        {
          "output_type": "stream",
          "name": "stderr",
          "text": [
            " 45%|████▍     | 23008/51200 [09:16<09:55, 47.37it/s]"
          ]
        },
        {
          "output_type": "stream",
          "name": "stdout",
          "text": [
            "178m 45s (- 219m 10s) (23000 44%) 1.0966\n"
          ]
        },
        {
          "output_type": "stream",
          "name": "stderr",
          "text": [
            " 47%|████▋     | 24005/51200 [09:41<09:33, 47.40it/s]"
          ]
        },
        {
          "output_type": "stream",
          "name": "stdout",
          "text": [
            "179m 9s (- 203m 3s) (24000 46%) 1.1396\n"
          ]
        },
        {
          "output_type": "stream",
          "name": "stderr",
          "text": [
            " 49%|████▉     | 25007/51200 [10:06<09:46, 44.66it/s]"
          ]
        },
        {
          "output_type": "stream",
          "name": "stdout",
          "text": [
            "179m 34s (- 188m 12s) (25000 48%) 1.0723\n"
          ]
        },
        {
          "output_type": "stream",
          "name": "stderr",
          "text": [
            " 51%|█████     | 26007/51200 [10:30<10:58, 38.23it/s]"
          ]
        },
        {
          "output_type": "stream",
          "name": "stdout",
          "text": [
            "179m 58s (- 174m 26s) (26000 50%) 1.0906\n"
          ]
        },
        {
          "output_type": "stream",
          "name": "stderr",
          "text": [
            " 53%|█████▎    | 27004/51200 [10:54<09:33, 42.18it/s]"
          ]
        },
        {
          "output_type": "stream",
          "name": "stdout",
          "text": [
            "180m 22s (- 161m 40s) (27000 52%) 1.1111\n"
          ]
        },
        {
          "output_type": "stream",
          "name": "stderr",
          "text": [
            " 55%|█████▍    | 28006/51200 [11:19<09:18, 41.50it/s]"
          ]
        },
        {
          "output_type": "stream",
          "name": "stdout",
          "text": [
            "180m 47s (- 149m 48s) (28000 54%) 1.1120\n"
          ]
        },
        {
          "output_type": "stream",
          "name": "stderr",
          "text": [
            " 57%|█████▋    | 29007/51200 [11:42<10:51, 34.08it/s]"
          ]
        },
        {
          "output_type": "stream",
          "name": "stdout",
          "text": [
            "181m 11s (- 138m 42s) (29000 56%) 1.1096\n"
          ]
        },
        {
          "output_type": "stream",
          "name": "stderr",
          "text": [
            " 59%|█████▊    | 30007/51200 [12:06<07:58, 44.33it/s]"
          ]
        },
        {
          "output_type": "stream",
          "name": "stdout",
          "text": [
            "181m 35s (- 128m 19s) (30000 58%) 1.0910\n"
          ]
        },
        {
          "output_type": "stream",
          "name": "stderr",
          "text": [
            " 61%|██████    | 31006/51200 [12:31<07:21, 45.72it/s]"
          ]
        },
        {
          "output_type": "stream",
          "name": "stdout",
          "text": [
            "182m 0s (- 118m 35s) (31000 60%) 1.1041\n"
          ]
        },
        {
          "output_type": "stream",
          "name": "stderr",
          "text": [
            " 63%|██████▎   | 32005/51200 [12:56<08:29, 37.64it/s]"
          ]
        },
        {
          "output_type": "stream",
          "name": "stdout",
          "text": [
            "182m 25s (- 109m 27s) (32000 62%) 1.1003\n"
          ]
        },
        {
          "output_type": "stream",
          "name": "stderr",
          "text": [
            " 64%|██████▍   | 33003/51200 [13:19<07:17, 41.59it/s]"
          ]
        },
        {
          "output_type": "stream",
          "name": "stdout",
          "text": [
            "182m 48s (- 100m 49s) (33000 64%) 1.1100\n"
          ]
        },
        {
          "output_type": "stream",
          "name": "stderr",
          "text": [
            " 66%|██████▋   | 34007/51200 [13:44<06:09, 46.57it/s]"
          ]
        },
        {
          "output_type": "stream",
          "name": "stdout",
          "text": [
            "183m 13s (- 92m 41s) (34000 66%) 1.1116\n"
          ]
        },
        {
          "output_type": "stream",
          "name": "stderr",
          "text": [
            " 68%|██████▊   | 35005/51200 [14:09<06:01, 44.83it/s]"
          ]
        },
        {
          "output_type": "stream",
          "name": "stdout",
          "text": [
            "183m 37s (- 84m 59s) (35000 68%) 1.1320\n"
          ]
        },
        {
          "output_type": "stream",
          "name": "stderr",
          "text": [
            " 70%|███████   | 36004/51200 [14:32<06:23, 39.68it/s]"
          ]
        },
        {
          "output_type": "stream",
          "name": "stdout",
          "text": [
            "184m 1s (- 77m 41s) (36000 70%) 1.0974\n"
          ]
        },
        {
          "output_type": "stream",
          "name": "stderr",
          "text": [
            " 72%|███████▏  | 37004/51200 [14:57<05:17, 44.65it/s]"
          ]
        },
        {
          "output_type": "stream",
          "name": "stdout",
          "text": [
            "184m 25s (- 70m 46s) (37000 72%) 1.0868\n"
          ]
        },
        {
          "output_type": "stream",
          "name": "stderr",
          "text": [
            " 74%|███████▍  | 38005/51200 [15:21<04:50, 45.38it/s]"
          ]
        },
        {
          "output_type": "stream",
          "name": "stdout",
          "text": [
            "184m 50s (- 64m 12s) (38000 74%) 1.0734\n"
          ]
        },
        {
          "output_type": "stream",
          "name": "stderr",
          "text": [
            " 76%|███████▌  | 39003/51200 [15:45<06:15, 32.50it/s]"
          ]
        },
        {
          "output_type": "stream",
          "name": "stdout",
          "text": [
            "185m 13s (- 57m 56s) (39000 76%) 1.1326\n"
          ]
        },
        {
          "output_type": "stream",
          "name": "stderr",
          "text": [
            " 78%|███████▊  | 40004/51200 [16:09<04:23, 42.45it/s]"
          ]
        },
        {
          "output_type": "stream",
          "name": "stdout",
          "text": [
            "185m 38s (- 51m 58s) (40000 78%) 1.1225\n"
          ]
        },
        {
          "output_type": "stream",
          "name": "stderr",
          "text": [
            " 80%|████████  | 41009/51200 [16:34<03:44, 45.33it/s]"
          ]
        },
        {
          "output_type": "stream",
          "name": "stdout",
          "text": [
            "186m 2s (- 46m 17s) (41000 80%) 1.0657\n"
          ]
        },
        {
          "output_type": "stream",
          "name": "stderr",
          "text": [
            " 82%|████████▏ | 42002/51200 [16:58<05:04, 30.20it/s]"
          ]
        },
        {
          "output_type": "stream",
          "name": "stdout",
          "text": [
            "186m 27s (- 40m 50s) (42000 82%) 1.0834\n"
          ]
        },
        {
          "output_type": "stream",
          "name": "stderr",
          "text": [
            " 84%|████████▍ | 43008/51200 [17:21<02:47, 48.94it/s]"
          ]
        },
        {
          "output_type": "stream",
          "name": "stdout",
          "text": [
            "186m 50s (- 35m 37s) (43000 83%) 1.0865\n"
          ]
        },
        {
          "output_type": "stream",
          "name": "stderr",
          "text": [
            " 86%|████████▌ | 44008/51200 [17:46<02:44, 43.69it/s]"
          ]
        },
        {
          "output_type": "stream",
          "name": "stdout",
          "text": [
            "187m 15s (- 30m 38s) (44000 85%) 1.1106\n"
          ]
        },
        {
          "output_type": "stream",
          "name": "stderr",
          "text": [
            " 88%|████████▊ | 45007/51200 [18:11<02:29, 41.55it/s]"
          ]
        },
        {
          "output_type": "stream",
          "name": "stdout",
          "text": [
            "187m 39s (- 25m 51s) (45000 87%) 1.1205\n"
          ]
        },
        {
          "output_type": "stream",
          "name": "stderr",
          "text": [
            " 90%|████████▉ | 46006/51200 [18:34<01:51, 46.68it/s]"
          ]
        },
        {
          "output_type": "stream",
          "name": "stdout",
          "text": [
            "188m 3s (- 21m 15s) (46000 89%) 1.1160\n"
          ]
        },
        {
          "output_type": "stream",
          "name": "stderr",
          "text": [
            " 92%|█████████▏| 47009/51200 [18:59<01:33, 44.92it/s]"
          ]
        },
        {
          "output_type": "stream",
          "name": "stdout",
          "text": [
            "188m 28s (- 16m 50s) (47000 91%) 1.1145\n"
          ]
        },
        {
          "output_type": "stream",
          "name": "stderr",
          "text": [
            " 94%|█████████▍| 48007/51200 [19:23<01:08, 46.53it/s]"
          ]
        },
        {
          "output_type": "stream",
          "name": "stdout",
          "text": [
            "188m 52s (- 12m 35s) (48000 93%) 1.0974\n"
          ]
        },
        {
          "output_type": "stream",
          "name": "stderr",
          "text": [
            " 96%|█████████▌| 49006/51200 [19:47<00:55, 39.19it/s]"
          ]
        },
        {
          "output_type": "stream",
          "name": "stdout",
          "text": [
            "189m 15s (- 8m 29s) (49000 95%) 1.0712\n"
          ]
        },
        {
          "output_type": "stream",
          "name": "stderr",
          "text": [
            " 98%|█████████▊| 50008/51200 [20:11<00:28, 41.47it/s]"
          ]
        },
        {
          "output_type": "stream",
          "name": "stdout",
          "text": [
            "189m 40s (- 4m 33s) (50000 97%) 1.0747\n"
          ]
        },
        {
          "output_type": "stream",
          "name": "stderr",
          "text": [
            "100%|█████████▉| 51008/51200 [20:36<00:04, 44.69it/s]"
          ]
        },
        {
          "output_type": "stream",
          "name": "stdout",
          "text": [
            "190m 4s (- 0m 44s) (51000 99%) 1.1036\n"
          ]
        },
        {
          "output_type": "stream",
          "name": "stderr",
          "text": [
            "100%|██████████| 51200/51200 [20:40<00:00, 41.27it/s]\n"
          ]
        },
        {
          "output_type": "stream",
          "name": "stdout",
          "text": [
            "{'train_loss': 1.110490179692285, 'train_acc': 0.0926171875, 'valid_acc': 0.11181640625}\n"
          ]
        },
        {
          "output_type": "stream",
          "name": "stderr",
          "text": [
            "  2%|▏         | 1009/51200 [00:24<19:14, 43.48it/s]"
          ]
        },
        {
          "output_type": "stream",
          "name": "stdout",
          "text": [
            "200m 43s (- 10076m 23s) (1000 1%) 1.2724\n"
          ]
        },
        {
          "output_type": "stream",
          "name": "stderr",
          "text": [
            "  4%|▍         | 2004/51200 [00:49<19:17, 42.48it/s]"
          ]
        },
        {
          "output_type": "stream",
          "name": "stdout",
          "text": [
            "201m 8s (- 4948m 5s) (2000 3%) 1.1404\n"
          ]
        },
        {
          "output_type": "stream",
          "name": "stderr",
          "text": [
            "  6%|▌         | 3005/51200 [01:13<23:19, 34.45it/s]"
          ]
        },
        {
          "output_type": "stream",
          "name": "stdout",
          "text": [
            "201m 32s (- 3238m 8s) (3000 5%) 1.0762\n"
          ]
        },
        {
          "output_type": "stream",
          "name": "stderr",
          "text": [
            "  8%|▊         | 4008/51200 [01:37<18:09, 43.32it/s]"
          ]
        },
        {
          "output_type": "stream",
          "name": "stdout",
          "text": [
            "201m 56s (- 2382m 58s) (4000 7%) 1.1049\n"
          ]
        },
        {
          "output_type": "stream",
          "name": "stderr",
          "text": [
            " 10%|▉         | 5006/51200 [02:02<16:21, 47.06it/s]"
          ]
        },
        {
          "output_type": "stream",
          "name": "stdout",
          "text": [
            "202m 21s (- 1869m 46s) (5000 9%) 1.0971\n"
          ]
        },
        {
          "output_type": "stream",
          "name": "stderr",
          "text": [
            " 12%|█▏        | 6007/51200 [02:27<17:36, 42.79it/s]"
          ]
        },
        {
          "output_type": "stream",
          "name": "stdout",
          "text": [
            "202m 46s (- 1527m 31s) (6000 11%) 1.0806\n"
          ]
        },
        {
          "output_type": "stream",
          "name": "stderr",
          "text": [
            " 14%|█▎        | 7003/51200 [02:51<20:36, 35.75it/s]"
          ]
        },
        {
          "output_type": "stream",
          "name": "stdout",
          "text": [
            "203m 10s (- 1282m 52s) (7000 13%) 1.1291\n"
          ]
        },
        {
          "output_type": "stream",
          "name": "stderr",
          "text": [
            " 16%|█▌        | 8009/51200 [03:16<15:29, 46.49it/s]"
          ]
        },
        {
          "output_type": "stream",
          "name": "stdout",
          "text": [
            "203m 35s (- 1099m 23s) (8000 15%) 1.1011\n"
          ]
        },
        {
          "output_type": "stream",
          "name": "stderr",
          "text": [
            " 18%|█▊        | 9004/51200 [03:41<16:42, 42.08it/s]"
          ]
        },
        {
          "output_type": "stream",
          "name": "stdout",
          "text": [
            "204m 0s (- 956m 34s) (9000 17%) 1.0585\n"
          ]
        },
        {
          "output_type": "stream",
          "name": "stderr",
          "text": [
            " 20%|█▉        | 10002/51200 [04:05<20:47, 33.02it/s]"
          ]
        },
        {
          "output_type": "stream",
          "name": "stdout",
          "text": [
            "204m 25s (- 842m 12s) (10000 19%) 1.0844\n"
          ]
        },
        {
          "output_type": "stream",
          "name": "stderr",
          "text": [
            " 21%|██▏       | 11007/51200 [04:30<15:24, 43.47it/s]"
          ]
        },
        {
          "output_type": "stream",
          "name": "stdout",
          "text": [
            "204m 49s (- 748m 32s) (11000 21%) 1.0911\n"
          ]
        },
        {
          "output_type": "stream",
          "name": "stderr",
          "text": [
            " 23%|██▎       | 12007/51200 [04:55<14:26, 45.25it/s]"
          ]
        },
        {
          "output_type": "stream",
          "name": "stdout",
          "text": [
            "205m 14s (- 670m 27s) (12000 23%) 1.1275\n"
          ]
        },
        {
          "output_type": "stream",
          "name": "stderr",
          "text": [
            " 25%|██▌       | 13004/51200 [05:20<14:36, 43.60it/s]"
          ]
        },
        {
          "output_type": "stream",
          "name": "stdout",
          "text": [
            "205m 39s (- 604m 18s) (13000 25%) 1.0911\n"
          ]
        },
        {
          "output_type": "stream",
          "name": "stderr",
          "text": [
            " 27%|██▋       | 14005/51200 [05:44<19:09, 32.35it/s]"
          ]
        },
        {
          "output_type": "stream",
          "name": "stdout",
          "text": [
            "206m 3s (- 547m 32s) (14000 27%) 1.0986\n"
          ]
        },
        {
          "output_type": "stream",
          "name": "stderr",
          "text": [
            " 29%|██▉       | 15007/51200 [06:09<12:31, 48.14it/s]"
          ]
        },
        {
          "output_type": "stream",
          "name": "stdout",
          "text": [
            "206m 28s (- 498m 17s) (15000 29%) 1.1174\n"
          ]
        },
        {
          "output_type": "stream",
          "name": "stderr",
          "text": [
            " 31%|███▏      | 16008/51200 [06:34<14:16, 41.11it/s]"
          ]
        },
        {
          "output_type": "stream",
          "name": "stdout",
          "text": [
            "206m 53s (- 455m 10s) (16000 31%) 1.0500\n"
          ]
        },
        {
          "output_type": "stream",
          "name": "stderr",
          "text": [
            " 33%|███▎      | 17006/51200 [06:59<13:34, 41.96it/s]"
          ]
        },
        {
          "output_type": "stream",
          "name": "stdout",
          "text": [
            "207m 18s (- 417m 4s) (17000 33%) 1.0558\n"
          ]
        },
        {
          "output_type": "stream",
          "name": "stderr",
          "text": [
            " 35%|███▌      | 18003/51200 [07:23<16:37, 33.28it/s]"
          ]
        },
        {
          "output_type": "stream",
          "name": "stdout",
          "text": [
            "207m 43s (- 383m 7s) (18000 35%) 1.1264\n"
          ]
        },
        {
          "output_type": "stream",
          "name": "stderr",
          "text": [
            " 37%|███▋      | 19009/51200 [07:48<11:50, 45.34it/s]"
          ]
        },
        {
          "output_type": "stream",
          "name": "stdout",
          "text": [
            "208m 7s (- 352m 43s) (19000 37%) 1.1170\n"
          ]
        },
        {
          "output_type": "stream",
          "name": "stderr",
          "text": [
            " 39%|███▉      | 20006/51200 [08:13<11:41, 44.48it/s]"
          ]
        },
        {
          "output_type": "stream",
          "name": "stdout",
          "text": [
            "208m 32s (- 325m 20s) (20000 39%) 1.1169\n"
          ]
        },
        {
          "output_type": "stream",
          "name": "stderr",
          "text": [
            " 41%|████      | 21005/51200 [08:38<16:29, 30.51it/s]"
          ]
        },
        {
          "output_type": "stream",
          "name": "stdout",
          "text": [
            "208m 57s (- 300m 30s) (21000 41%) 1.0588\n"
          ]
        },
        {
          "output_type": "stream",
          "name": "stderr",
          "text": [
            " 43%|████▎     | 22007/51200 [09:02<10:43, 45.40it/s]"
          ]
        },
        {
          "output_type": "stream",
          "name": "stdout",
          "text": [
            "209m 21s (- 277m 52s) (22000 42%) 1.0837\n"
          ]
        },
        {
          "output_type": "stream",
          "name": "stderr",
          "text": [
            " 45%|████▍     | 23005/51200 [09:27<10:07, 46.44it/s]"
          ]
        },
        {
          "output_type": "stream",
          "name": "stdout",
          "text": [
            "209m 46s (- 257m 12s) (23000 44%) 1.0950\n"
          ]
        },
        {
          "output_type": "stream",
          "name": "stderr",
          "text": [
            " 47%|████▋     | 24005/51200 [09:52<10:08, 44.68it/s]"
          ]
        },
        {
          "output_type": "stream",
          "name": "stdout",
          "text": [
            "210m 12s (- 238m 13s) (24000 46%) 1.1397\n"
          ]
        },
        {
          "output_type": "stream",
          "name": "stderr",
          "text": [
            " 49%|████▉     | 25005/51200 [10:17<14:04, 31.03it/s]"
          ]
        },
        {
          "output_type": "stream",
          "name": "stdout",
          "text": [
            "210m 36s (- 220m 43s) (25000 48%) 1.0721\n"
          ]
        },
        {
          "output_type": "stream",
          "name": "stderr",
          "text": [
            " 51%|█████     | 26009/51200 [10:42<09:06, 46.13it/s]"
          ]
        },
        {
          "output_type": "stream",
          "name": "stdout",
          "text": [
            "211m 1s (- 204m 31s) (26000 50%) 1.0465\n"
          ]
        },
        {
          "output_type": "stream",
          "name": "stderr",
          "text": [
            " 53%|█████▎    | 27005/51200 [11:07<09:37, 41.87it/s]"
          ]
        },
        {
          "output_type": "stream",
          "name": "stdout",
          "text": [
            "211m 26s (- 189m 31s) (27000 52%) 1.0927\n"
          ]
        },
        {
          "output_type": "stream",
          "name": "stderr",
          "text": [
            " 55%|█████▍    | 28007/51200 [11:32<09:12, 41.99it/s]"
          ]
        },
        {
          "output_type": "stream",
          "name": "stdout",
          "text": [
            "211m 51s (- 175m 32s) (28000 54%) 1.0731\n"
          ]
        },
        {
          "output_type": "stream",
          "name": "stderr",
          "text": [
            " 57%|█████▋    | 29007/51200 [11:56<07:59, 46.33it/s]"
          ]
        },
        {
          "output_type": "stream",
          "name": "stdout",
          "text": [
            "212m 15s (- 162m 29s) (29000 56%) 1.0903\n"
          ]
        },
        {
          "output_type": "stream",
          "name": "stderr",
          "text": [
            " 59%|█████▊    | 30004/51200 [12:21<08:35, 41.11it/s]"
          ]
        },
        {
          "output_type": "stream",
          "name": "stdout",
          "text": [
            "212m 40s (- 150m 17s) (30000 58%) 1.0501\n"
          ]
        },
        {
          "output_type": "stream",
          "name": "stderr",
          "text": [
            " 61%|██████    | 31005/51200 [12:47<07:14, 46.48it/s]"
          ]
        },
        {
          "output_type": "stream",
          "name": "stdout",
          "text": [
            "213m 6s (- 138m 51s) (31000 60%) 1.1011\n"
          ]
        },
        {
          "output_type": "stream",
          "name": "stderr",
          "text": [
            " 63%|██████▎   | 32003/51200 [13:12<12:54, 24.80it/s]"
          ]
        },
        {
          "output_type": "stream",
          "name": "stdout",
          "text": [
            "213m 31s (- 128m 6s) (32000 62%) 1.0740\n"
          ]
        },
        {
          "output_type": "stream",
          "name": "stderr",
          "text": [
            " 64%|██████▍   | 33003/51200 [13:36<07:15, 41.78it/s]"
          ]
        },
        {
          "output_type": "stream",
          "name": "stdout",
          "text": [
            "213m 55s (- 117m 58s) (33000 64%) 1.0752\n"
          ]
        },
        {
          "output_type": "stream",
          "name": "stderr",
          "text": [
            " 66%|██████▋   | 34008/51200 [14:01<06:34, 43.63it/s]"
          ]
        },
        {
          "output_type": "stream",
          "name": "stdout",
          "text": [
            "214m 20s (- 108m 26s) (34000 66%) 1.0788\n"
          ]
        },
        {
          "output_type": "stream",
          "name": "stderr",
          "text": [
            " 68%|██████▊   | 35005/51200 [14:26<05:57, 45.30it/s]"
          ]
        },
        {
          "output_type": "stream",
          "name": "stdout",
          "text": [
            "214m 45s (- 99m 24s) (35000 68%) 1.0987\n"
          ]
        },
        {
          "output_type": "stream",
          "name": "stderr",
          "text": [
            " 70%|███████   | 36002/51200 [14:50<06:48, 37.18it/s]"
          ]
        },
        {
          "output_type": "stream",
          "name": "stdout",
          "text": [
            "215m 10s (- 90m 50s) (36000 70%) 1.0753\n"
          ]
        },
        {
          "output_type": "stream",
          "name": "stderr",
          "text": [
            " 72%|███████▏  | 36770/51200 [15:10<04:50, 49.74it/s]"
          ]
        }
      ]
    },
    {
      "cell_type": "code",
      "execution_count": null,
      "metadata": {
        "id": "gWijFJXLF27-"
      },
      "outputs": [],
      "source": [
        "# sweep_config = {\n",
        "#     'method': 'random', \n",
        "#     'metric': {\n",
        "#         'name': 'valid_acc',\n",
        "#         'goal': 'maximize'\n",
        "#     },\n",
        "#     'parameters': {\n",
        "#         'optimizer': {\n",
        "#             'values': ['SGD']\n",
        "#         },\n",
        "#         'learning_rate': {\n",
        "#             'values': [0.01]\n",
        "#         },\n",
        "#         'epochs': {\n",
        "#             'values': [15]\n",
        "#         },\n",
        "#         'hid_layers': {\n",
        "#             'values': [4]\n",
        "#         },\n",
        "#         'emb_size': {\n",
        "#             'values': [128]\n",
        "#         },\n",
        "#         'hidden_size': {\n",
        "#             'values': [512]\n",
        "#         },\n",
        "#         'dropout': {\n",
        "#             'values': [0.1]\n",
        "#         },\n",
        "#         'type_t': {\n",
        "#             'values': ['GRU']\n",
        "#         }\n",
        "#     }\n",
        "# }\n"
      ]
    },
    {
      "cell_type": "code",
      "execution_count": null,
      "metadata": {
        "id": "57hYVxrsF6KR"
      },
      "outputs": [],
      "source": [
        "# def run():\n",
        "#   config_defaults = {\n",
        "#         'optimizer': 'Adam',\n",
        "#         'learning_rate': 0.005,\n",
        "#         'epochs': 10,\n",
        "#         'hid_layers': 1,\n",
        "#         'emb_size': 256,\n",
        "#         'hidden_size': 256,\n",
        "#         'dropout': 0.1,\n",
        "#         'type_t': 'GRU'\n",
        "#   }\n",
        "#   wandb.init(config=config_defaults)\n",
        "#   config = wandb.config\n",
        "#   encoder = Encoder(config.type_t, input_lang.n_letters, config.emb_size, config.hidden_size, config.dropout, config.hid_layers).to(device)\n",
        "#   decoder = Decoder(config.type_t, output_lang.n_letters, config.emb_size, config.hidden_size, config.dropout, config.hid_layers).to(device)\n",
        "#   train = Train(train_pairs, encoder, decoder, nn.NLLLoss(), config.dropout)\n",
        "#   train.trainIters(config.optimizer, config.learning_rate,print_every= 1000, epochs=config.epochs)\n",
        "\n",
        "#   wandb.finish()\n",
        "\n",
        "# sweep_id = wandb.sweep(sweep_config, project='assignment-3')\n",
        "# wandb.agent(sweep_id, function=run, count=10)"
      ]
    },
    {
      "cell_type": "code",
      "execution_count": null,
      "metadata": {
        "id": "5PxouD3BKY4W"
      },
      "outputs": [],
      "source": []
    }
  ],
  "metadata": {
    "colab": {
      "provenance": [],
      "gpuType": "T4",
      "mount_file_id": "1ivThNz5Qc4580aoiq33iR6mX3K63495q",
      "authorship_tag": "ABX9TyO6mro8afuzmdA9/cyeHe29"
    },
    "gpuClass": "standard",
    "kernelspec": {
      "display_name": "Python 3",
      "name": "python3"
    },
    "language_info": {
      "name": "python"
    }
  },
  "nbformat": 4,
  "nbformat_minor": 0
}